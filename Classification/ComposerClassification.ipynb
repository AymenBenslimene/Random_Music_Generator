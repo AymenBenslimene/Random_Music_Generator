{
  "cells": [
    {
      "cell_type": "markdown",
      "source": [
        "# Transformation des fichiers MIDI en un fichier CSV"
      ],
      "metadata": {
        "id": "4y05hXW8ZKh7"
      }
    },
    {
      "cell_type": "code",
      "execution_count": 1,
      "metadata": {
        "colab": {
          "base_uri": "https://localhost:8080/"
        },
        "id": "QYs0qPgMorlM",
        "outputId": "4762b807-0e51-4800-9262-e27d42512698"
      },
      "outputs": [
        {
          "output_type": "stream",
          "name": "stdout",
          "text": [
            "Collecting pretty_midi\n",
            "  Downloading pretty_midi-0.2.9.tar.gz (5.6 MB)\n",
            "\u001b[K     |████████████████████████████████| 5.6 MB 5.5 MB/s \n",
            "\u001b[?25hRequirement already satisfied: numpy>=1.7.0 in /usr/local/lib/python3.7/dist-packages (from pretty_midi) (1.21.6)\n",
            "Collecting mido>=1.1.16\n",
            "  Downloading mido-1.2.10-py2.py3-none-any.whl (51 kB)\n",
            "\u001b[K     |████████████████████████████████| 51 kB 932 kB/s \n",
            "\u001b[?25hRequirement already satisfied: six in /usr/local/lib/python3.7/dist-packages (from pretty_midi) (1.15.0)\n",
            "Building wheels for collected packages: pretty-midi\n",
            "  Building wheel for pretty-midi (setup.py) ... \u001b[?25l\u001b[?25hdone\n",
            "  Created wheel for pretty-midi: filename=pretty_midi-0.2.9-py3-none-any.whl size=5591955 sha256=8567b419e8c0054d2128d78afec0a27e9beeba40293b48fce15ec5598183be2f\n",
            "  Stored in directory: /root/.cache/pip/wheels/ad/74/7c/a06473ca8dcb63efb98c1e67667ce39d52100f837835ea18fa\n",
            "Successfully built pretty-midi\n",
            "Installing collected packages: mido, pretty-midi\n",
            "Successfully installed mido-1.2.10 pretty-midi-0.2.9\n"
          ]
        }
      ],
      "source": [
        "!pip install pretty_midi"
      ]
    },
    {
      "cell_type": "code",
      "source": [
        "!pip show pandas"
      ],
      "metadata": {
        "colab": {
          "base_uri": "https://localhost:8080/"
        },
        "id": "1wiIOSgbYqYs",
        "outputId": "f3e0f135-b777-49b0-c939-0c32c8c0fb28"
      },
      "execution_count": 2,
      "outputs": [
        {
          "output_type": "stream",
          "name": "stdout",
          "text": [
            "Name: pandas\n",
            "Version: 1.3.5\n",
            "Summary: Powerful data structures for data analysis, time series, and statistics\n",
            "Home-page: https://pandas.pydata.org\n",
            "Author: The Pandas Development Team\n",
            "Author-email: pandas-dev@python.org\n",
            "License: BSD-3-Clause\n",
            "Location: /usr/local/lib/python3.7/dist-packages\n",
            "Requires: pytz, numpy, python-dateutil\n",
            "Required-by: xarray, vega-datasets, statsmodels, sklearn-pandas, seaborn, pymc3, plotnine, pandas-profiling, pandas-gbq, pandas-datareader, mlxtend, mizani, holoviews, gspread-dataframe, google-colab, fix-yahoo-finance, fbprophet, fastai, cufflinks, cmdstanpy, arviz, altair\n"
          ]
        }
      ]
    },
    {
      "cell_type": "code",
      "execution_count": 3,
      "metadata": {
        "colab": {
          "base_uri": "https://localhost:8080/"
        },
        "id": "A6m36WIKpE6H",
        "outputId": "7c7ee730-6294-43f0-f33c-13d989938b90"
      },
      "outputs": [
        {
          "output_type": "stream",
          "name": "stdout",
          "text": [
            "Requirement already satisfied: mido in /usr/local/lib/python3.7/dist-packages (1.2.10)\n"
          ]
        }
      ],
      "source": [
        "!pip install mido "
      ]
    },
    {
      "cell_type": "code",
      "execution_count": 5,
      "metadata": {
        "id": "a_gtQ4jNpbKc"
      },
      "outputs": [],
      "source": [
        "import numpy as np\n",
        "import pandas as pd\n",
        "import mido\n",
        "from mido import MidiFile\n",
        "import pretty_midi\n",
        "from pretty_midi import TimeSignature\n",
        "import os"
      ]
    },
    {
      "cell_type": "code",
      "execution_count": 6,
      "metadata": {
        "colab": {
          "base_uri": "https://localhost:8080/"
        },
        "id": "UtumugFLq5Z_",
        "outputId": "47c2217e-b8fb-4240-cc85-773b90487c45"
      },
      "outputs": [
        {
          "output_type": "stream",
          "name": "stdout",
          "text": [
            "Mounted at /content/drive\n"
          ]
        }
      ],
      "source": [
        "from google.colab import drive\n",
        "drive.mount('/content/drive')"
      ]
    },
    {
      "cell_type": "code",
      "execution_count": 8,
      "metadata": {
        "colab": {
          "base_uri": "https://localhost:8080/"
        },
        "id": "Ygt1IVtMJRi1",
        "outputId": "3bfbcb34-6fd8-462e-c6f0-e5c8bc3d464a"
      },
      "outputs": [
        {
          "output_type": "stream",
          "name": "stdout",
          "text": [
            "Processed 1249 files.    \n",
            "Processed 1249 out of 1249 total files.\n"
          ]
        }
      ],
      "source": [
        "\n",
        "midi_files = pd.DataFrame(columns = ['Composer',  'Piece', 'Length', 'Tempo', 'Time_Signature', 'Pitch', 'Unique_Velocities', 'Duration', 'Average_Velocity', 'Min_Velocity', 'Max_Velocity'])\n",
        "total_files = 0\n",
        "processed_files = 0\n",
        "\n",
        "\n",
        "for file in os.listdir('/content/drive/MyDrive/Data2/'):\n",
        "\n",
        "    row = []\n",
        "    total_files += 1\n",
        "\n",
        "    if file.endswith('.mid') or file.endswith('.MID'):\n",
        "        clip = MidiFile(f'/content/drive/MyDrive/Data2/{file}')\n",
        "        if clip.type == 0:\n",
        "            pretty_clip = pretty_midi.PrettyMIDI(f'/content/drive/MyDrive/Data2/{file}')\n",
        "            \n",
        "            # Identifier le compositeur a partir du titre du fichier MIDI\n",
        "            composer = file[file.find('_C--') + len('_C--') : file.find('_T--')]\n",
        "            piece = file[file.find('_T--') + len('_T--') : file.find('.')]\n",
        "            \n",
        "            # Extraire la longueur, le tempo et la signature temporelle  a partir de  pretty_midi object\n",
        "            end_time = pretty_clip.get_end_time()\n",
        "            tempo = pretty_clip.estimate_tempo()\n",
        "            times = str(pretty_clip.time_signature_changes)\n",
        "            time_sig = times[times.find('numerator=') + len('numerator=') : times.find('numerator=') + len('numerator=') + 1] \\\n",
        "                + '/' \\\n",
        "                + times[times.find('denominator=') + len('denominator=') : times.find('denominator=') + len('denominator=') + 1]\n",
        "           \n",
        "            # Creation de  liste de velocité\n",
        "            velocity_list = []\n",
        "            for instrument in pretty_clip.instruments:\n",
        "                for note in instrument.notes:\n",
        "                    velocity_list.append(note.velocity)\n",
        "                    \n",
        "\n",
        "            # Creation de  liste de durée \n",
        "            duration_list = []\n",
        "            for instrument in pretty_clip.instruments:\n",
        "                for note in instrument.notes:\n",
        "                    duration_list.append(note.duration)\n",
        " \n",
        "            #Création de liste pour Pitch\n",
        "            pitch=[]\n",
        "            for instrument in pretty_clip.instruments:\n",
        "              for note in instrument.notes:\n",
        "                pitch.append(note.pitch)\n",
        "\n",
        "\n",
        "            # Ajout des variables \n",
        "            row.append(composer)\n",
        "            row.append(piece)\n",
        "            row.append(end_time)\n",
        "            row.append(tempo)\n",
        "            row.append(time_sig)\n",
        "            row.append(len(set(pitch)))\n",
        "            row.append(len(set(duration_list)))\n",
        "            row.append(len(set(velocity_list)))\n",
        "            row.append(np.mean(velocity_list))\n",
        "            row.append(min(velocity_list))\n",
        "            row.append(max(velocity_list))\n",
        "            \n",
        "            # Ajout de la liste a la dataframe\n",
        "            length = len(midi_files)\n",
        "            midi_files.loc[length] = row\n",
        "\n",
        "            processed_files += 1\n",
        "                \n",
        "            # affichier que le fichier a été proccessed\n",
        "            print(f'Processed {processed_files} files.    ', end = '\\r')\n",
        "        else:\n",
        "            print(f'File not type 0: {file}') \n",
        "    else:\n",
        "        print(f'File not midi: {file}')\n",
        "\n",
        "print(f'\\nProcessed {processed_files} out of {total_files} total files.')"
      ]
    },
    {
      "cell_type": "code",
      "execution_count": 9,
      "metadata": {
        "colab": {
          "base_uri": "https://localhost:8080/",
          "height": 270
        },
        "id": "2i2tSV5porlP",
        "outputId": "ffa4e51b-425f-4336-dd91-48ee8140b929"
      },
      "outputs": [
        {
          "output_type": "execute_result",
          "data": {
            "text/plain": [
              "   Composer                                Piece       Length       Tempo  \\\n",
              "0  Schubert         WandererFantasiaInCMajorD760  1263.317380  208.601117   \n",
              "1    Chopin                        EtudeOp25No10   229.271940  221.218255   \n",
              "2      Bach  PreludeAndFugueInBFlatMinorWTCBook2   367.498297  188.046396   \n",
              "3  Schubert        ImpromptuOp142No3InBFlatMajor   405.515086  212.193278   \n",
              "4  Schumann                  KreislerianaOp16No8   209.424203  219.355745   \n",
              "\n",
              "  Time_Signature Pitch Unique_Velocities Duration  Average_Velocity  \\\n",
              "0            4/4    75              2187      106         69.878853   \n",
              "1            4/4    71              1058      111         72.096217   \n",
              "2            4/4    47              1188       79         68.575552   \n",
              "3            4/4    72              1370      101         56.989334   \n",
              "4            4/4    56               718       89         67.392542   \n",
              "\n",
              "  Min_Velocity Max_Velocity  \n",
              "0            3          109  \n",
              "1            2          118  \n",
              "2            4          105  \n",
              "3            2          106  \n",
              "4            4          110  "
            ],
            "text/html": [
              "\n",
              "  <div id=\"df-7d7d2266-acf6-4d08-8c28-ee2db7fcfc9c\">\n",
              "    <div class=\"colab-df-container\">\n",
              "      <div>\n",
              "<style scoped>\n",
              "    .dataframe tbody tr th:only-of-type {\n",
              "        vertical-align: middle;\n",
              "    }\n",
              "\n",
              "    .dataframe tbody tr th {\n",
              "        vertical-align: top;\n",
              "    }\n",
              "\n",
              "    .dataframe thead th {\n",
              "        text-align: right;\n",
              "    }\n",
              "</style>\n",
              "<table border=\"1\" class=\"dataframe\">\n",
              "  <thead>\n",
              "    <tr style=\"text-align: right;\">\n",
              "      <th></th>\n",
              "      <th>Composer</th>\n",
              "      <th>Piece</th>\n",
              "      <th>Length</th>\n",
              "      <th>Tempo</th>\n",
              "      <th>Time_Signature</th>\n",
              "      <th>Pitch</th>\n",
              "      <th>Unique_Velocities</th>\n",
              "      <th>Duration</th>\n",
              "      <th>Average_Velocity</th>\n",
              "      <th>Min_Velocity</th>\n",
              "      <th>Max_Velocity</th>\n",
              "    </tr>\n",
              "  </thead>\n",
              "  <tbody>\n",
              "    <tr>\n",
              "      <th>0</th>\n",
              "      <td>Schubert</td>\n",
              "      <td>WandererFantasiaInCMajorD760</td>\n",
              "      <td>1263.317380</td>\n",
              "      <td>208.601117</td>\n",
              "      <td>4/4</td>\n",
              "      <td>75</td>\n",
              "      <td>2187</td>\n",
              "      <td>106</td>\n",
              "      <td>69.878853</td>\n",
              "      <td>3</td>\n",
              "      <td>109</td>\n",
              "    </tr>\n",
              "    <tr>\n",
              "      <th>1</th>\n",
              "      <td>Chopin</td>\n",
              "      <td>EtudeOp25No10</td>\n",
              "      <td>229.271940</td>\n",
              "      <td>221.218255</td>\n",
              "      <td>4/4</td>\n",
              "      <td>71</td>\n",
              "      <td>1058</td>\n",
              "      <td>111</td>\n",
              "      <td>72.096217</td>\n",
              "      <td>2</td>\n",
              "      <td>118</td>\n",
              "    </tr>\n",
              "    <tr>\n",
              "      <th>2</th>\n",
              "      <td>Bach</td>\n",
              "      <td>PreludeAndFugueInBFlatMinorWTCBook2</td>\n",
              "      <td>367.498297</td>\n",
              "      <td>188.046396</td>\n",
              "      <td>4/4</td>\n",
              "      <td>47</td>\n",
              "      <td>1188</td>\n",
              "      <td>79</td>\n",
              "      <td>68.575552</td>\n",
              "      <td>4</td>\n",
              "      <td>105</td>\n",
              "    </tr>\n",
              "    <tr>\n",
              "      <th>3</th>\n",
              "      <td>Schubert</td>\n",
              "      <td>ImpromptuOp142No3InBFlatMajor</td>\n",
              "      <td>405.515086</td>\n",
              "      <td>212.193278</td>\n",
              "      <td>4/4</td>\n",
              "      <td>72</td>\n",
              "      <td>1370</td>\n",
              "      <td>101</td>\n",
              "      <td>56.989334</td>\n",
              "      <td>2</td>\n",
              "      <td>106</td>\n",
              "    </tr>\n",
              "    <tr>\n",
              "      <th>4</th>\n",
              "      <td>Schumann</td>\n",
              "      <td>KreislerianaOp16No8</td>\n",
              "      <td>209.424203</td>\n",
              "      <td>219.355745</td>\n",
              "      <td>4/4</td>\n",
              "      <td>56</td>\n",
              "      <td>718</td>\n",
              "      <td>89</td>\n",
              "      <td>67.392542</td>\n",
              "      <td>4</td>\n",
              "      <td>110</td>\n",
              "    </tr>\n",
              "  </tbody>\n",
              "</table>\n",
              "</div>\n",
              "      <button class=\"colab-df-convert\" onclick=\"convertToInteractive('df-7d7d2266-acf6-4d08-8c28-ee2db7fcfc9c')\"\n",
              "              title=\"Convert this dataframe to an interactive table.\"\n",
              "              style=\"display:none;\">\n",
              "        \n",
              "  <svg xmlns=\"http://www.w3.org/2000/svg\" height=\"24px\"viewBox=\"0 0 24 24\"\n",
              "       width=\"24px\">\n",
              "    <path d=\"M0 0h24v24H0V0z\" fill=\"none\"/>\n",
              "    <path d=\"M18.56 5.44l.94 2.06.94-2.06 2.06-.94-2.06-.94-.94-2.06-.94 2.06-2.06.94zm-11 1L8.5 8.5l.94-2.06 2.06-.94-2.06-.94L8.5 2.5l-.94 2.06-2.06.94zm10 10l.94 2.06.94-2.06 2.06-.94-2.06-.94-.94-2.06-.94 2.06-2.06.94z\"/><path d=\"M17.41 7.96l-1.37-1.37c-.4-.4-.92-.59-1.43-.59-.52 0-1.04.2-1.43.59L10.3 9.45l-7.72 7.72c-.78.78-.78 2.05 0 2.83L4 21.41c.39.39.9.59 1.41.59.51 0 1.02-.2 1.41-.59l7.78-7.78 2.81-2.81c.8-.78.8-2.07 0-2.86zM5.41 20L4 18.59l7.72-7.72 1.47 1.35L5.41 20z\"/>\n",
              "  </svg>\n",
              "      </button>\n",
              "      \n",
              "  <style>\n",
              "    .colab-df-container {\n",
              "      display:flex;\n",
              "      flex-wrap:wrap;\n",
              "      gap: 12px;\n",
              "    }\n",
              "\n",
              "    .colab-df-convert {\n",
              "      background-color: #E8F0FE;\n",
              "      border: none;\n",
              "      border-radius: 50%;\n",
              "      cursor: pointer;\n",
              "      display: none;\n",
              "      fill: #1967D2;\n",
              "      height: 32px;\n",
              "      padding: 0 0 0 0;\n",
              "      width: 32px;\n",
              "    }\n",
              "\n",
              "    .colab-df-convert:hover {\n",
              "      background-color: #E2EBFA;\n",
              "      box-shadow: 0px 1px 2px rgba(60, 64, 67, 0.3), 0px 1px 3px 1px rgba(60, 64, 67, 0.15);\n",
              "      fill: #174EA6;\n",
              "    }\n",
              "\n",
              "    [theme=dark] .colab-df-convert {\n",
              "      background-color: #3B4455;\n",
              "      fill: #D2E3FC;\n",
              "    }\n",
              "\n",
              "    [theme=dark] .colab-df-convert:hover {\n",
              "      background-color: #434B5C;\n",
              "      box-shadow: 0px 1px 3px 1px rgba(0, 0, 0, 0.15);\n",
              "      filter: drop-shadow(0px 1px 2px rgba(0, 0, 0, 0.3));\n",
              "      fill: #FFFFFF;\n",
              "    }\n",
              "  </style>\n",
              "\n",
              "      <script>\n",
              "        const buttonEl =\n",
              "          document.querySelector('#df-7d7d2266-acf6-4d08-8c28-ee2db7fcfc9c button.colab-df-convert');\n",
              "        buttonEl.style.display =\n",
              "          google.colab.kernel.accessAllowed ? 'block' : 'none';\n",
              "\n",
              "        async function convertToInteractive(key) {\n",
              "          const element = document.querySelector('#df-7d7d2266-acf6-4d08-8c28-ee2db7fcfc9c');\n",
              "          const dataTable =\n",
              "            await google.colab.kernel.invokeFunction('convertToInteractive',\n",
              "                                                     [key], {});\n",
              "          if (!dataTable) return;\n",
              "\n",
              "          const docLinkHtml = 'Like what you see? Visit the ' +\n",
              "            '<a target=\"_blank\" href=https://colab.research.google.com/notebooks/data_table.ipynb>data table notebook</a>'\n",
              "            + ' to learn more about interactive tables.';\n",
              "          element.innerHTML = '';\n",
              "          dataTable['output_type'] = 'display_data';\n",
              "          await google.colab.output.renderOutput(dataTable, element);\n",
              "          const docLink = document.createElement('div');\n",
              "          docLink.innerHTML = docLinkHtml;\n",
              "          element.appendChild(docLink);\n",
              "        }\n",
              "      </script>\n",
              "    </div>\n",
              "  </div>\n",
              "  "
            ]
          },
          "metadata": {},
          "execution_count": 9
        }
      ],
      "source": [
        "#affichage de notre base sous format CSV\n",
        "midi_files.head()   "
      ]
    },
    {
      "cell_type": "code",
      "execution_count": 10,
      "metadata": {
        "id": "3CghKpmcorlP"
      },
      "outputs": [],
      "source": [
        "#Ordonner la base par rapport au nom des compositeur\n",
        "midi_files.sort_values(by = 'Composer', ascending = True, inplace = True)"
      ]
    },
    {
      "cell_type": "code",
      "execution_count": 11,
      "metadata": {
        "id": "6pUjPp4TorlQ"
      },
      "outputs": [],
      "source": [
        "midi_files.reset_index(drop = True, inplace = True)"
      ]
    },
    {
      "cell_type": "code",
      "execution_count": 12,
      "metadata": {
        "id": "G1y2ODruorlR"
      },
      "outputs": [],
      "source": [
        "midi_files['Length'] = midi_files['Length'].round()\n",
        "midi_files['Tempo'] = midi_files['Tempo'].round()\n",
        "#midi_files['Duration'] = midi_files['Duration'].round(2)\n",
        "midi_files['Average_Velocity'] = midi_files['Average_Velocity'].round(2)"
      ]
    },
    {
      "cell_type": "code",
      "execution_count": 13,
      "metadata": {
        "id": "2y0zrlyUorlR"
      },
      "outputs": [],
      "source": [
        "# Convertir les colonnes en type int \n",
        "midi_files['Length'] = midi_files['Length'].astype(int)\n",
        "midi_files['Tempo'] = midi_files['Tempo'].astype(int)\n",
        "midi_files['Unique_Velocities'] = midi_files['Unique_Velocities'].astype(int)\n",
        "midi_files['Min_Velocity'] = midi_files['Min_Velocity'].astype(int)\n",
        "midi_files['Max_Velocity'] = midi_files['Max_Velocity'].astype(int)"
      ]
    },
    {
      "cell_type": "code",
      "execution_count": 14,
      "metadata": {
        "colab": {
          "base_uri": "https://localhost:8080/",
          "height": 270
        },
        "id": "RHSWV-vkorlS",
        "outputId": "a808552f-ae09-43ca-b08c-937dc9d366a7"
      },
      "outputs": [
        {
          "output_type": "execute_result",
          "data": {
            "text/plain": [
              "  Composer                                 Piece  Length  Tempo  \\\n",
              "0     Bach           ItalianConcertoBWV9713rdMov     224    233   \n",
              "1     Bach                 ToccataInCMinorBWV911    2226    195   \n",
              "2     Bach           JesuJoyOfMansDesiringBWV147     208    209   \n",
              "3     Bach       PreludeAndFugueInEMajorWTCBook1     151    220   \n",
              "4     Bach  PreludeAndFugueInGSharpMinorWTCBook1     300    168   \n",
              "\n",
              "  Time_Signature Pitch  Unique_Velocities Duration  Average_Velocity  \\\n",
              "0            4/4    49                866       83             66.16   \n",
              "1            4/4    74               3128      111             66.43   \n",
              "2            4/4    48                967       76             45.37   \n",
              "3            4/4    44                644       63             67.47   \n",
              "4            4/4    48                918       65             66.07   \n",
              "\n",
              "   Min_Velocity  Max_Velocity  \n",
              "0             3            98  \n",
              "1             2           115  \n",
              "2             3            92  \n",
              "3            34           100  \n",
              "4            16            96  "
            ],
            "text/html": [
              "\n",
              "  <div id=\"df-9d821a8d-d0ae-4561-94d1-8e3bc9b152ff\">\n",
              "    <div class=\"colab-df-container\">\n",
              "      <div>\n",
              "<style scoped>\n",
              "    .dataframe tbody tr th:only-of-type {\n",
              "        vertical-align: middle;\n",
              "    }\n",
              "\n",
              "    .dataframe tbody tr th {\n",
              "        vertical-align: top;\n",
              "    }\n",
              "\n",
              "    .dataframe thead th {\n",
              "        text-align: right;\n",
              "    }\n",
              "</style>\n",
              "<table border=\"1\" class=\"dataframe\">\n",
              "  <thead>\n",
              "    <tr style=\"text-align: right;\">\n",
              "      <th></th>\n",
              "      <th>Composer</th>\n",
              "      <th>Piece</th>\n",
              "      <th>Length</th>\n",
              "      <th>Tempo</th>\n",
              "      <th>Time_Signature</th>\n",
              "      <th>Pitch</th>\n",
              "      <th>Unique_Velocities</th>\n",
              "      <th>Duration</th>\n",
              "      <th>Average_Velocity</th>\n",
              "      <th>Min_Velocity</th>\n",
              "      <th>Max_Velocity</th>\n",
              "    </tr>\n",
              "  </thead>\n",
              "  <tbody>\n",
              "    <tr>\n",
              "      <th>0</th>\n",
              "      <td>Bach</td>\n",
              "      <td>ItalianConcertoBWV9713rdMov</td>\n",
              "      <td>224</td>\n",
              "      <td>233</td>\n",
              "      <td>4/4</td>\n",
              "      <td>49</td>\n",
              "      <td>866</td>\n",
              "      <td>83</td>\n",
              "      <td>66.16</td>\n",
              "      <td>3</td>\n",
              "      <td>98</td>\n",
              "    </tr>\n",
              "    <tr>\n",
              "      <th>1</th>\n",
              "      <td>Bach</td>\n",
              "      <td>ToccataInCMinorBWV911</td>\n",
              "      <td>2226</td>\n",
              "      <td>195</td>\n",
              "      <td>4/4</td>\n",
              "      <td>74</td>\n",
              "      <td>3128</td>\n",
              "      <td>111</td>\n",
              "      <td>66.43</td>\n",
              "      <td>2</td>\n",
              "      <td>115</td>\n",
              "    </tr>\n",
              "    <tr>\n",
              "      <th>2</th>\n",
              "      <td>Bach</td>\n",
              "      <td>JesuJoyOfMansDesiringBWV147</td>\n",
              "      <td>208</td>\n",
              "      <td>209</td>\n",
              "      <td>4/4</td>\n",
              "      <td>48</td>\n",
              "      <td>967</td>\n",
              "      <td>76</td>\n",
              "      <td>45.37</td>\n",
              "      <td>3</td>\n",
              "      <td>92</td>\n",
              "    </tr>\n",
              "    <tr>\n",
              "      <th>3</th>\n",
              "      <td>Bach</td>\n",
              "      <td>PreludeAndFugueInEMajorWTCBook1</td>\n",
              "      <td>151</td>\n",
              "      <td>220</td>\n",
              "      <td>4/4</td>\n",
              "      <td>44</td>\n",
              "      <td>644</td>\n",
              "      <td>63</td>\n",
              "      <td>67.47</td>\n",
              "      <td>34</td>\n",
              "      <td>100</td>\n",
              "    </tr>\n",
              "    <tr>\n",
              "      <th>4</th>\n",
              "      <td>Bach</td>\n",
              "      <td>PreludeAndFugueInGSharpMinorWTCBook1</td>\n",
              "      <td>300</td>\n",
              "      <td>168</td>\n",
              "      <td>4/4</td>\n",
              "      <td>48</td>\n",
              "      <td>918</td>\n",
              "      <td>65</td>\n",
              "      <td>66.07</td>\n",
              "      <td>16</td>\n",
              "      <td>96</td>\n",
              "    </tr>\n",
              "  </tbody>\n",
              "</table>\n",
              "</div>\n",
              "      <button class=\"colab-df-convert\" onclick=\"convertToInteractive('df-9d821a8d-d0ae-4561-94d1-8e3bc9b152ff')\"\n",
              "              title=\"Convert this dataframe to an interactive table.\"\n",
              "              style=\"display:none;\">\n",
              "        \n",
              "  <svg xmlns=\"http://www.w3.org/2000/svg\" height=\"24px\"viewBox=\"0 0 24 24\"\n",
              "       width=\"24px\">\n",
              "    <path d=\"M0 0h24v24H0V0z\" fill=\"none\"/>\n",
              "    <path d=\"M18.56 5.44l.94 2.06.94-2.06 2.06-.94-2.06-.94-.94-2.06-.94 2.06-2.06.94zm-11 1L8.5 8.5l.94-2.06 2.06-.94-2.06-.94L8.5 2.5l-.94 2.06-2.06.94zm10 10l.94 2.06.94-2.06 2.06-.94-2.06-.94-.94-2.06-.94 2.06-2.06.94z\"/><path d=\"M17.41 7.96l-1.37-1.37c-.4-.4-.92-.59-1.43-.59-.52 0-1.04.2-1.43.59L10.3 9.45l-7.72 7.72c-.78.78-.78 2.05 0 2.83L4 21.41c.39.39.9.59 1.41.59.51 0 1.02-.2 1.41-.59l7.78-7.78 2.81-2.81c.8-.78.8-2.07 0-2.86zM5.41 20L4 18.59l7.72-7.72 1.47 1.35L5.41 20z\"/>\n",
              "  </svg>\n",
              "      </button>\n",
              "      \n",
              "  <style>\n",
              "    .colab-df-container {\n",
              "      display:flex;\n",
              "      flex-wrap:wrap;\n",
              "      gap: 12px;\n",
              "    }\n",
              "\n",
              "    .colab-df-convert {\n",
              "      background-color: #E8F0FE;\n",
              "      border: none;\n",
              "      border-radius: 50%;\n",
              "      cursor: pointer;\n",
              "      display: none;\n",
              "      fill: #1967D2;\n",
              "      height: 32px;\n",
              "      padding: 0 0 0 0;\n",
              "      width: 32px;\n",
              "    }\n",
              "\n",
              "    .colab-df-convert:hover {\n",
              "      background-color: #E2EBFA;\n",
              "      box-shadow: 0px 1px 2px rgba(60, 64, 67, 0.3), 0px 1px 3px 1px rgba(60, 64, 67, 0.15);\n",
              "      fill: #174EA6;\n",
              "    }\n",
              "\n",
              "    [theme=dark] .colab-df-convert {\n",
              "      background-color: #3B4455;\n",
              "      fill: #D2E3FC;\n",
              "    }\n",
              "\n",
              "    [theme=dark] .colab-df-convert:hover {\n",
              "      background-color: #434B5C;\n",
              "      box-shadow: 0px 1px 3px 1px rgba(0, 0, 0, 0.15);\n",
              "      filter: drop-shadow(0px 1px 2px rgba(0, 0, 0, 0.3));\n",
              "      fill: #FFFFFF;\n",
              "    }\n",
              "  </style>\n",
              "\n",
              "      <script>\n",
              "        const buttonEl =\n",
              "          document.querySelector('#df-9d821a8d-d0ae-4561-94d1-8e3bc9b152ff button.colab-df-convert');\n",
              "        buttonEl.style.display =\n",
              "          google.colab.kernel.accessAllowed ? 'block' : 'none';\n",
              "\n",
              "        async function convertToInteractive(key) {\n",
              "          const element = document.querySelector('#df-9d821a8d-d0ae-4561-94d1-8e3bc9b152ff');\n",
              "          const dataTable =\n",
              "            await google.colab.kernel.invokeFunction('convertToInteractive',\n",
              "                                                     [key], {});\n",
              "          if (!dataTable) return;\n",
              "\n",
              "          const docLinkHtml = 'Like what you see? Visit the ' +\n",
              "            '<a target=\"_blank\" href=https://colab.research.google.com/notebooks/data_table.ipynb>data table notebook</a>'\n",
              "            + ' to learn more about interactive tables.';\n",
              "          element.innerHTML = '';\n",
              "          dataTable['output_type'] = 'display_data';\n",
              "          await google.colab.output.renderOutput(dataTable, element);\n",
              "          const docLink = document.createElement('div');\n",
              "          docLink.innerHTML = docLinkHtml;\n",
              "          element.appendChild(docLink);\n",
              "        }\n",
              "      </script>\n",
              "    </div>\n",
              "  </div>\n",
              "  "
            ]
          },
          "metadata": {},
          "execution_count": 14
        }
      ],
      "source": [
        "#reafficher la base\n",
        "midi_files.head()"
      ]
    },
    {
      "cell_type": "code",
      "execution_count": 15,
      "metadata": {
        "id": "Lv7tGOy3orlS"
      },
      "outputs": [],
      "source": [
        "# Enregistrer la base \n",
        "midi_files.to_csv('/content/drive/MyDrive/BaseMidiFinale2.csv', index = False)"
      ]
    },
    {
      "cell_type": "markdown",
      "source": [
        "# Familiarisation avec la base"
      ],
      "metadata": {
        "id": "RwWckhqMZmAf"
      }
    },
    {
      "cell_type": "code",
      "execution_count": 16,
      "metadata": {
        "id": "IhfaZ85v8v_O"
      },
      "outputs": [],
      "source": [
        "import numpy as np\n",
        "import pandas as pd\n",
        "import matplotlib.pyplot as plt"
      ]
    },
    {
      "cell_type": "code",
      "execution_count": 17,
      "metadata": {
        "id": "R2Edux1F8wDE"
      },
      "outputs": [],
      "source": [
        "data = pd.read_csv('/content/drive/MyDrive/BaseMidiFinale2.csv')"
      ]
    },
    {
      "cell_type": "code",
      "execution_count": 18,
      "metadata": {
        "colab": {
          "base_uri": "https://localhost:8080/"
        },
        "id": "-6QDlmPATunF",
        "outputId": "00d89207-bf89-406c-b0e7-1b62301a530c"
      },
      "outputs": [
        {
          "output_type": "execute_result",
          "data": {
            "text/plain": [
              "(1249, 11)"
            ]
          },
          "metadata": {},
          "execution_count": 18
        }
      ],
      "source": [
        "data.shape"
      ]
    },
    {
      "cell_type": "code",
      "execution_count": 19,
      "metadata": {
        "colab": {
          "base_uri": "https://localhost:8080/"
        },
        "id": "DSi8lqCJ8wJ_",
        "outputId": "dff19b76-4e2b-449d-9fd2-521165262aab"
      },
      "outputs": [
        {
          "output_type": "stream",
          "name": "stdout",
          "text": [
            "<class 'pandas.core.frame.DataFrame'>\n",
            "RangeIndex: 1249 entries, 0 to 1248\n",
            "Data columns (total 11 columns):\n",
            " #   Column             Non-Null Count  Dtype  \n",
            "---  ------             --------------  -----  \n",
            " 0   Composer           1249 non-null   object \n",
            " 1   Piece              1249 non-null   object \n",
            " 2   Length             1249 non-null   int64  \n",
            " 3   Tempo              1249 non-null   int64  \n",
            " 4   Time_Signature     1249 non-null   object \n",
            " 5   Pitch              1249 non-null   int64  \n",
            " 6   Unique_Velocities  1249 non-null   int64  \n",
            " 7   Duration           1249 non-null   int64  \n",
            " 8   Average_Velocity   1249 non-null   float64\n",
            " 9   Min_Velocity       1249 non-null   int64  \n",
            " 10  Max_Velocity       1249 non-null   int64  \n",
            "dtypes: float64(1), int64(7), object(3)\n",
            "memory usage: 107.5+ KB\n"
          ]
        }
      ],
      "source": [
        "data.info()"
      ]
    },
    {
      "cell_type": "code",
      "source": [
        "print(data.describe(include='all'))"
      ],
      "metadata": {
        "colab": {
          "base_uri": "https://localhost:8080/"
        },
        "id": "aFtgcKS3xR4f",
        "outputId": "62f96947-19c9-4ad0-a00a-bbd582cd8aa9"
      },
      "execution_count": 20,
      "outputs": [
        {
          "output_type": "stream",
          "name": "stdout",
          "text": [
            "       Composer         Piece       Length        Tempo Time_Signature  \\\n",
            "count      1249          1249  1249.000000  1249.000000           1249   \n",
            "unique       10           737          NaN          NaN              1   \n",
            "top        Bach  EtudeOp10No8          NaN          NaN            4/4   \n",
            "freq        150            17          NaN          NaN           1249   \n",
            "mean        NaN           NaN   526.172938   204.178543            NaN   \n",
            "std         NaN           NaN   425.925748    20.289554            NaN   \n",
            "min         NaN           NaN    65.000000    72.000000            NaN   \n",
            "25%         NaN           NaN   255.000000   197.000000            NaN   \n",
            "50%         NaN           NaN   389.000000   208.000000            NaN   \n",
            "75%         NaN           NaN   624.000000   216.000000            NaN   \n",
            "max         NaN           NaN  2629.000000   255.000000            NaN   \n",
            "\n",
            "              Pitch  Unique_Velocities     Duration  Average_Velocity  \\\n",
            "count   1249.000000        1249.000000  1249.000000       1249.000000   \n",
            "unique          NaN                NaN          NaN               NaN   \n",
            "top             NaN                NaN          NaN               NaN   \n",
            "freq            NaN                NaN          NaN               NaN   \n",
            "mean      67.479584        1311.317054    97.742194         63.733122   \n",
            "std       11.862180         644.141853    14.386408          6.638405   \n",
            "min       34.000000         283.000000    56.000000         33.830000   \n",
            "25%       60.000000         869.000000    88.000000         60.000000   \n",
            "50%       70.000000        1164.000000   101.000000         64.520000   \n",
            "75%       77.000000        1549.000000   108.000000         68.420000   \n",
            "max       88.000000        3771.000000   126.000000         81.470000   \n",
            "\n",
            "        Min_Velocity  Max_Velocity  \n",
            "count    1249.000000   1249.000000  \n",
            "unique           NaN           NaN  \n",
            "top              NaN           NaN  \n",
            "freq             NaN           NaN  \n",
            "mean        4.537230    108.587670  \n",
            "std         3.701883      9.341485  \n",
            "min         1.000000     81.000000  \n",
            "25%         3.000000    102.000000  \n",
            "50%         3.000000    109.000000  \n",
            "75%         6.000000    115.000000  \n",
            "max        34.000000    126.000000  \n"
          ]
        }
      ]
    },
    {
      "cell_type": "code",
      "execution_count": 21,
      "metadata": {
        "colab": {
          "base_uri": "https://localhost:8080/"
        },
        "id": "Ob-CPTYu8wN_",
        "outputId": "d357420d-5459-40e6-fefc-f4fbdb144085"
      },
      "outputs": [
        {
          "output_type": "execute_result",
          "data": {
            "text/plain": [
              "Bach            150\n",
              "Beethoven       150\n",
              "Chopin          150\n",
              "Liszt           150\n",
              "Schubert        150\n",
              "Rachmaninoff    101\n",
              "Haydn           100\n",
              "Prokofiev       100\n",
              "Ravel           100\n",
              "Schumann         98\n",
              "Name: Composer, dtype: int64"
            ]
          },
          "metadata": {},
          "execution_count": 21
        }
      ],
      "source": [
        "data['Composer'].value_counts() "
      ]
    },
    {
      "cell_type": "code",
      "execution_count": 22,
      "metadata": {
        "colab": {
          "base_uri": "https://localhost:8080/"
        },
        "id": "JYrUHn11918f",
        "outputId": "ebc7e673-0f29-4149-afa9-a724d647856a"
      },
      "outputs": [
        {
          "output_type": "execute_result",
          "data": {
            "text/plain": [
              "4/4    1249\n",
              "Name: Time_Signature, dtype: int64"
            ]
          },
          "metadata": {},
          "execution_count": 22
        }
      ],
      "source": [
        "data['Time_Signature'].value_counts()"
      ]
    },
    {
      "cell_type": "code",
      "source": [
        "data.isnull().values.any()"
      ],
      "metadata": {
        "colab": {
          "base_uri": "https://localhost:8080/"
        },
        "id": "LpLLfNVe9CkP",
        "outputId": "735a5810-09ed-49f3-8273-b63411303ed1"
      },
      "execution_count": 23,
      "outputs": [
        {
          "output_type": "execute_result",
          "data": {
            "text/plain": [
              "False"
            ]
          },
          "metadata": {},
          "execution_count": 23
        }
      ]
    },
    {
      "cell_type": "markdown",
      "source": [
        "# Visualisation "
      ],
      "metadata": {
        "id": "O5ddnWp7pDWd"
      }
    },
    {
      "cell_type": "code",
      "execution_count": 24,
      "metadata": {
        "colab": {
          "base_uri": "https://localhost:8080/",
          "height": 782
        },
        "id": "ba2GjO6091th",
        "outputId": "d5affd94-b21c-4f90-bbf1-9282637f0cf9"
      },
      "outputs": [
        {
          "output_type": "display_data",
          "data": {
            "text/plain": [
              "<Figure size 1080x1080 with 1 Axes>"
            ],
            "image/png": "[encoded data removed]"
          },
          "metadata": {
            "needs_background": "light"
          }
        }
      ],
      "source": [
        "#Composer distribution plot\n",
        "plt.figure(figsize = (15,15))\n",
        "plt.bar(data['Composer'], data['Composer'].index)\n",
        "plt.plot([-1, 20], [100, 100], color = 'black')\n",
        "plt.plot([-1, 7], [200, 200], color = 'black')\n",
        "plt.plot([-1, 5], [300, 300], color = 'black')\n",
        "plt.title('Distribution des compositeurs dans la base', fontsize = 20)\n",
        "plt.ylabel('Occurances ', fontsize = 15)\n",
        "plt.xlabel('Compositeurs', fontsize = 15)\n",
        "plt.xticks(fontsize = 12, rotation = 45)\n",
        "plt.show()\n",
        "#Ca reste a verifier le graphe!!"
      ]
    },
    {
      "cell_type": "code",
      "execution_count": 25,
      "metadata": {
        "colab": {
          "base_uri": "https://localhost:8080/",
          "height": 519
        },
        "id": "QNKFVjhf91_X",
        "outputId": "320ab0c1-b186-417b-8474-e623f63ef536"
      },
      "outputs": [
        {
          "output_type": "display_data",
          "data": {
            "text/plain": [
              "<Figure size 1080x720 with 1 Axes>"
            ],
            "image/png": "[encoded data removed]"
          },
          "metadata": {
            "needs_background": "light"
          }
        }
      ],
      "source": [
        "#length distribution plot\n",
        "plt.figure(figsize = (15,10))\n",
        "plt.hist(data['Length'], bins = 50)\n",
        "plt.ylabel('Frequence d\"occurence', fontsize = 15)\n",
        "plt.xlabel('Longueur du morceau', fontsize = 15)\n",
        "plt.title('Distribution de la longueur du morceau', fontsize = 20)\n",
        "plt.show()"
      ]
    },
    {
      "cell_type": "code",
      "execution_count": 26,
      "metadata": {
        "colab": {
          "base_uri": "https://localhost:8080/",
          "height": 519
        },
        "id": "gZqe2Ppk-g-r",
        "outputId": "76e6da10-62a3-4967-9f9b-cc619f033ceb"
      },
      "outputs": [
        {
          "output_type": "display_data",
          "data": {
            "text/plain": [
              "<Figure size 1080x720 with 1 Axes>"
            ],
            "image/png": "[encoded data removed]"
          },
          "metadata": {
            "needs_background": "light"
          }
        }
      ],
      "source": [
        "# Tempo distribution plot\n",
        "plt.figure(figsize = (15,10))\n",
        "plt.hist(data['Tempo']/2, bins = 50)\n",
        "plt.ylabel('Frequency d\"occurence', fontsize = 15)\n",
        "plt.xlabel(' Tempo ', fontsize = 15)\n",
        "plt.title('Distribution du Tempo', fontsize = 20)\n",
        "plt.show()"
      ]
    },
    {
      "cell_type": "code",
      "execution_count": 27,
      "metadata": {
        "id": "UlBXQ2cTU6Pe",
        "colab": {
          "base_uri": "https://localhost:8080/",
          "height": 519
        },
        "outputId": "ac7ddeb3-01da-4712-9d9f-2ca811b14325"
      },
      "outputs": [
        {
          "output_type": "display_data",
          "data": {
            "text/plain": [
              "<Figure size 1080x720 with 1 Axes>"
            ],
            "image/png": "[encoded data removed]"
          },
          "metadata": {
            "needs_background": "light"
          }
        }
      ],
      "source": [
        "# Duration distribution plot\n",
        "plt.figure(figsize = (15,10))\n",
        "plt.hist(data['Duration'], bins = 25)\n",
        "plt.ylabel('Frequence d\"occurence', fontsize = 15)\n",
        "plt.xlabel('Durée', fontsize = 15)\n",
        "plt.title('Distribution de la duration entre les notes', fontsize = 20)\n",
        "plt.show()"
      ]
    },
    {
      "cell_type": "code",
      "source": [
        "#ajouter un pour velocité"
      ],
      "metadata": {
        "id": "49QrC3nav3RR"
      },
      "execution_count": null,
      "outputs": []
    },
    {
      "cell_type": "markdown",
      "source": [
        "# Preprocessing"
      ],
      "metadata": {
        "id": "eqqhFT7zqlTn"
      }
    },
    {
      "cell_type": "code",
      "source": [
        "from sklearn import preprocessing\n",
        "from sklearn.model_selection import train_test_split\n",
        "from sklearn.neighbors import KNeighborsClassifier\n",
        "import matplotlib.pyplot as plt\n",
        "import seaborn as sns\n",
        "import pandas as pd"
      ],
      "metadata": {
        "id": "U-vBbuUomfbB"
      },
      "execution_count": 28,
      "outputs": []
    },
    {
      "cell_type": "code",
      "source": [
        "data=data.drop(['Piece'],axis=1)\n"
      ],
      "metadata": {
        "id": "RkDSimgXg02F"
      },
      "execution_count": 29,
      "outputs": []
    },
    {
      "cell_type": "code",
      "source": [
        "data.head(2)"
      ],
      "metadata": {
        "colab": {
          "base_uri": "https://localhost:8080/",
          "height": 176
        },
        "id": "Cd4U3SdAl3bI",
        "outputId": "55ebda3a-983c-4a69-f19e-e0bd9dbaba4b"
      },
      "execution_count": 27,
      "outputs": [
        {
          "output_type": "execute_result",
          "data": {
            "text/plain": [
              "  Composer  Length  Tempo Time_Signature  Unique_Velocities  Duration  \\\n",
              "0     Bach     224    233            4/4                866        83   \n",
              "1     Bach    2226    195            4/4               3128       111   \n",
              "\n",
              "   Average_Velocity  Min_Velocity  Max_Velocity  \n",
              "0             66.16             3            98  \n",
              "1             66.43             2           115  "
            ],
            "text/html": [
              "\n",
              "  <div id=\"df-70b9038f-64ec-4ecc-9ca2-ee081d312d0e\">\n",
              "    <div class=\"colab-df-container\">\n",
              "      <div>\n",
              "<style scoped>\n",
              "    .dataframe tbody tr th:only-of-type {\n",
              "        vertical-align: middle;\n",
              "    }\n",
              "\n",
              "    .dataframe tbody tr th {\n",
              "        vertical-align: top;\n",
              "    }\n",
              "\n",
              "    .dataframe thead th {\n",
              "        text-align: right;\n",
              "    }\n",
              "</style>\n",
              "<table border=\"1\" class=\"dataframe\">\n",
              "  <thead>\n",
              "    <tr style=\"text-align: right;\">\n",
              "      <th></th>\n",
              "      <th>Composer</th>\n",
              "      <th>Length</th>\n",
              "      <th>Tempo</th>\n",
              "      <th>Time_Signature</th>\n",
              "      <th>Unique_Velocities</th>\n",
              "      <th>Duration</th>\n",
              "      <th>Average_Velocity</th>\n",
              "      <th>Min_Velocity</th>\n",
              "      <th>Max_Velocity</th>\n",
              "    </tr>\n",
              "  </thead>\n",
              "  <tbody>\n",
              "    <tr>\n",
              "      <th>0</th>\n",
              "      <td>Bach</td>\n",
              "      <td>224</td>\n",
              "      <td>233</td>\n",
              "      <td>4/4</td>\n",
              "      <td>866</td>\n",
              "      <td>83</td>\n",
              "      <td>66.16</td>\n",
              "      <td>3</td>\n",
              "      <td>98</td>\n",
              "    </tr>\n",
              "    <tr>\n",
              "      <th>1</th>\n",
              "      <td>Bach</td>\n",
              "      <td>2226</td>\n",
              "      <td>195</td>\n",
              "      <td>4/4</td>\n",
              "      <td>3128</td>\n",
              "      <td>111</td>\n",
              "      <td>66.43</td>\n",
              "      <td>2</td>\n",
              "      <td>115</td>\n",
              "    </tr>\n",
              "  </tbody>\n",
              "</table>\n",
              "</div>\n",
              "      <button class=\"colab-df-convert\" onclick=\"convertToInteractive('df-70b9038f-64ec-4ecc-9ca2-ee081d312d0e')\"\n",
              "              title=\"Convert this dataframe to an interactive table.\"\n",
              "              style=\"display:none;\">\n",
              "        \n",
              "  <svg xmlns=\"http://www.w3.org/2000/svg\" height=\"24px\"viewBox=\"0 0 24 24\"\n",
              "       width=\"24px\">\n",
              "    <path d=\"M0 0h24v24H0V0z\" fill=\"none\"/>\n",
              "    <path d=\"M18.56 5.44l.94 2.06.94-2.06 2.06-.94-2.06-.94-.94-2.06-.94 2.06-2.06.94zm-11 1L8.5 8.5l.94-2.06 2.06-.94-2.06-.94L8.5 2.5l-.94 2.06-2.06.94zm10 10l.94 2.06.94-2.06 2.06-.94-2.06-.94-.94-2.06-.94 2.06-2.06.94z\"/><path d=\"M17.41 7.96l-1.37-1.37c-.4-.4-.92-.59-1.43-.59-.52 0-1.04.2-1.43.59L10.3 9.45l-7.72 7.72c-.78.78-.78 2.05 0 2.83L4 21.41c.39.39.9.59 1.41.59.51 0 1.02-.2 1.41-.59l7.78-7.78 2.81-2.81c.8-.78.8-2.07 0-2.86zM5.41 20L4 18.59l7.72-7.72 1.47 1.35L5.41 20z\"/>\n",
              "  </svg>\n",
              "      </button>\n",
              "      \n",
              "  <style>\n",
              "    .colab-df-container {\n",
              "      display:flex;\n",
              "      flex-wrap:wrap;\n",
              "      gap: 12px;\n",
              "    }\n",
              "\n",
              "    .colab-df-convert {\n",
              "      background-color: #E8F0FE;\n",
              "      border: none;\n",
              "      border-radius: 50%;\n",
              "      cursor: pointer;\n",
              "      display: none;\n",
              "      fill: #1967D2;\n",
              "      height: 32px;\n",
              "      padding: 0 0 0 0;\n",
              "      width: 32px;\n",
              "    }\n",
              "\n",
              "    .colab-df-convert:hover {\n",
              "      background-color: #E2EBFA;\n",
              "      box-shadow: 0px 1px 2px rgba(60, 64, 67, 0.3), 0px 1px 3px 1px rgba(60, 64, 67, 0.15);\n",
              "      fill: #174EA6;\n",
              "    }\n",
              "\n",
              "    [theme=dark] .colab-df-convert {\n",
              "      background-color: #3B4455;\n",
              "      fill: #D2E3FC;\n",
              "    }\n",
              "\n",
              "    [theme=dark] .colab-df-convert:hover {\n",
              "      background-color: #434B5C;\n",
              "      box-shadow: 0px 1px 3px 1px rgba(0, 0, 0, 0.15);\n",
              "      filter: drop-shadow(0px 1px 2px rgba(0, 0, 0, 0.3));\n",
              "      fill: #FFFFFF;\n",
              "    }\n",
              "  </style>\n",
              "\n",
              "      <script>\n",
              "        const buttonEl =\n",
              "          document.querySelector('#df-70b9038f-64ec-4ecc-9ca2-ee081d312d0e button.colab-df-convert');\n",
              "        buttonEl.style.display =\n",
              "          google.colab.kernel.accessAllowed ? 'block' : 'none';\n",
              "\n",
              "        async function convertToInteractive(key) {\n",
              "          const element = document.querySelector('#df-70b9038f-64ec-4ecc-9ca2-ee081d312d0e');\n",
              "          const dataTable =\n",
              "            await google.colab.kernel.invokeFunction('convertToInteractive',\n",
              "                                                     [key], {});\n",
              "          if (!dataTable) return;\n",
              "\n",
              "          const docLinkHtml = 'Like what you see? Visit the ' +\n",
              "            '<a target=\"_blank\" href=https://colab.research.google.com/notebooks/data_table.ipynb>data table notebook</a>'\n",
              "            + ' to learn more about interactive tables.';\n",
              "          element.innerHTML = '';\n",
              "          dataTable['output_type'] = 'display_data';\n",
              "          await google.colab.output.renderOutput(dataTable, element);\n",
              "          const docLink = document.createElement('div');\n",
              "          docLink.innerHTML = docLinkHtml;\n",
              "          element.appendChild(docLink);\n",
              "        }\n",
              "      </script>\n",
              "    </div>\n",
              "  </div>\n",
              "  "
            ]
          },
          "metadata": {},
          "execution_count": 27
        }
      ]
    },
    {
      "cell_type": "markdown",
      "source": [
        "**Encodage de nos Variables categoriques**"
      ],
      "metadata": {
        "id": "dHHrPlvL_gdw"
      }
    },
    {
      "cell_type": "code",
      "source": [
        ""
      ],
      "metadata": {
        "id": "DvGDW6XyWpWA"
      },
      "execution_count": null,
      "outputs": []
    },
    {
      "cell_type": "code",
      "source": [
        "data['Composer'] = data['Composer'].map({'Beethoven' :0, 'Chopin' :1, 'Liszt' :2, 'Bach' :3, 'Schubert' :4, 'Haydn' :5, 'Prokofiev' :6, 'Rachmaninoff' :7, 'Ravel' :8, 'Schumann':9 }) #mapping numbers\n",
        "data.head()"
      ],
      "metadata": {
        "colab": {
          "base_uri": "https://localhost:8080/",
          "height": 270
        },
        "id": "8QCwkOEV-cLt",
        "outputId": "5b1cbd6a-7e56-4557-fcb0-e133e818d279"
      },
      "execution_count": 30,
      "outputs": [
        {
          "output_type": "execute_result",
          "data": {
            "text/plain": [
              "   Composer  Length  Tempo Time_Signature  Pitch  Unique_Velocities  Duration  \\\n",
              "0         3     224    233            4/4     49                866        83   \n",
              "1         3    2226    195            4/4     74               3128       111   \n",
              "2         3     208    209            4/4     48                967        76   \n",
              "3         3     151    220            4/4     44                644        63   \n",
              "4         3     300    168            4/4     48                918        65   \n",
              "\n",
              "   Average_Velocity  Min_Velocity  Max_Velocity  \n",
              "0             66.16             3            98  \n",
              "1             66.43             2           115  \n",
              "2             45.37             3            92  \n",
              "3             67.47            34           100  \n",
              "4             66.07            16            96  "
            ],
            "text/html": [
              "\n",
              "  <div id=\"df-a33ddf54-c0d5-4a6b-967f-9c18e146b964\">\n",
              "    <div class=\"colab-df-container\">\n",
              "      <div>\n",
              "<style scoped>\n",
              "    .dataframe tbody tr th:only-of-type {\n",
              "        vertical-align: middle;\n",
              "    }\n",
              "\n",
              "    .dataframe tbody tr th {\n",
              "        vertical-align: top;\n",
              "    }\n",
              "\n",
              "    .dataframe thead th {\n",
              "        text-align: right;\n",
              "    }\n",
              "</style>\n",
              "<table border=\"1\" class=\"dataframe\">\n",
              "  <thead>\n",
              "    <tr style=\"text-align: right;\">\n",
              "      <th></th>\n",
              "      <th>Composer</th>\n",
              "      <th>Length</th>\n",
              "      <th>Tempo</th>\n",
              "      <th>Time_Signature</th>\n",
              "      <th>Pitch</th>\n",
              "      <th>Unique_Velocities</th>\n",
              "      <th>Duration</th>\n",
              "      <th>Average_Velocity</th>\n",
              "      <th>Min_Velocity</th>\n",
              "      <th>Max_Velocity</th>\n",
              "    </tr>\n",
              "  </thead>\n",
              "  <tbody>\n",
              "    <tr>\n",
              "      <th>0</th>\n",
              "      <td>3</td>\n",
              "      <td>224</td>\n",
              "      <td>233</td>\n",
              "      <td>4/4</td>\n",
              "      <td>49</td>\n",
              "      <td>866</td>\n",
              "      <td>83</td>\n",
              "      <td>66.16</td>\n",
              "      <td>3</td>\n",
              "      <td>98</td>\n",
              "    </tr>\n",
              "    <tr>\n",
              "      <th>1</th>\n",
              "      <td>3</td>\n",
              "      <td>2226</td>\n",
              "      <td>195</td>\n",
              "      <td>4/4</td>\n",
              "      <td>74</td>\n",
              "      <td>3128</td>\n",
              "      <td>111</td>\n",
              "      <td>66.43</td>\n",
              "      <td>2</td>\n",
              "      <td>115</td>\n",
              "    </tr>\n",
              "    <tr>\n",
              "      <th>2</th>\n",
              "      <td>3</td>\n",
              "      <td>208</td>\n",
              "      <td>209</td>\n",
              "      <td>4/4</td>\n",
              "      <td>48</td>\n",
              "      <td>967</td>\n",
              "      <td>76</td>\n",
              "      <td>45.37</td>\n",
              "      <td>3</td>\n",
              "      <td>92</td>\n",
              "    </tr>\n",
              "    <tr>\n",
              "      <th>3</th>\n",
              "      <td>3</td>\n",
              "      <td>151</td>\n",
              "      <td>220</td>\n",
              "      <td>4/4</td>\n",
              "      <td>44</td>\n",
              "      <td>644</td>\n",
              "      <td>63</td>\n",
              "      <td>67.47</td>\n",
              "      <td>34</td>\n",
              "      <td>100</td>\n",
              "    </tr>\n",
              "    <tr>\n",
              "      <th>4</th>\n",
              "      <td>3</td>\n",
              "      <td>300</td>\n",
              "      <td>168</td>\n",
              "      <td>4/4</td>\n",
              "      <td>48</td>\n",
              "      <td>918</td>\n",
              "      <td>65</td>\n",
              "      <td>66.07</td>\n",
              "      <td>16</td>\n",
              "      <td>96</td>\n",
              "    </tr>\n",
              "  </tbody>\n",
              "</table>\n",
              "</div>\n",
              "      <button class=\"colab-df-convert\" onclick=\"convertToInteractive('df-a33ddf54-c0d5-4a6b-967f-9c18e146b964')\"\n",
              "              title=\"Convert this dataframe to an interactive table.\"\n",
              "              style=\"display:none;\">\n",
              "        \n",
              "  <svg xmlns=\"http://www.w3.org/2000/svg\" height=\"24px\"viewBox=\"0 0 24 24\"\n",
              "       width=\"24px\">\n",
              "    <path d=\"M0 0h24v24H0V0z\" fill=\"none\"/>\n",
              "    <path d=\"M18.56 5.44l.94 2.06.94-2.06 2.06-.94-2.06-.94-.94-2.06-.94 2.06-2.06.94zm-11 1L8.5 8.5l.94-2.06 2.06-.94-2.06-.94L8.5 2.5l-.94 2.06-2.06.94zm10 10l.94 2.06.94-2.06 2.06-.94-2.06-.94-.94-2.06-.94 2.06-2.06.94z\"/><path d=\"M17.41 7.96l-1.37-1.37c-.4-.4-.92-.59-1.43-.59-.52 0-1.04.2-1.43.59L10.3 9.45l-7.72 7.72c-.78.78-.78 2.05 0 2.83L4 21.41c.39.39.9.59 1.41.59.51 0 1.02-.2 1.41-.59l7.78-7.78 2.81-2.81c.8-.78.8-2.07 0-2.86zM5.41 20L4 18.59l7.72-7.72 1.47 1.35L5.41 20z\"/>\n",
              "  </svg>\n",
              "      </button>\n",
              "      \n",
              "  <style>\n",
              "    .colab-df-container {\n",
              "      display:flex;\n",
              "      flex-wrap:wrap;\n",
              "      gap: 12px;\n",
              "    }\n",
              "\n",
              "    .colab-df-convert {\n",
              "      background-color: #E8F0FE;\n",
              "      border: none;\n",
              "      border-radius: 50%;\n",
              "      cursor: pointer;\n",
              "      display: none;\n",
              "      fill: #1967D2;\n",
              "      height: 32px;\n",
              "      padding: 0 0 0 0;\n",
              "      width: 32px;\n",
              "    }\n",
              "\n",
              "    .colab-df-convert:hover {\n",
              "      background-color: #E2EBFA;\n",
              "      box-shadow: 0px 1px 2px rgba(60, 64, 67, 0.3), 0px 1px 3px 1px rgba(60, 64, 67, 0.15);\n",
              "      fill: #174EA6;\n",
              "    }\n",
              "\n",
              "    [theme=dark] .colab-df-convert {\n",
              "      background-color: #3B4455;\n",
              "      fill: #D2E3FC;\n",
              "    }\n",
              "\n",
              "    [theme=dark] .colab-df-convert:hover {\n",
              "      background-color: #434B5C;\n",
              "      box-shadow: 0px 1px 3px 1px rgba(0, 0, 0, 0.15);\n",
              "      filter: drop-shadow(0px 1px 2px rgba(0, 0, 0, 0.3));\n",
              "      fill: #FFFFFF;\n",
              "    }\n",
              "  </style>\n",
              "\n",
              "      <script>\n",
              "        const buttonEl =\n",
              "          document.querySelector('#df-a33ddf54-c0d5-4a6b-967f-9c18e146b964 button.colab-df-convert');\n",
              "        buttonEl.style.display =\n",
              "          google.colab.kernel.accessAllowed ? 'block' : 'none';\n",
              "\n",
              "        async function convertToInteractive(key) {\n",
              "          const element = document.querySelector('#df-a33ddf54-c0d5-4a6b-967f-9c18e146b964');\n",
              "          const dataTable =\n",
              "            await google.colab.kernel.invokeFunction('convertToInteractive',\n",
              "                                                     [key], {});\n",
              "          if (!dataTable) return;\n",
              "\n",
              "          const docLinkHtml = 'Like what you see? Visit the ' +\n",
              "            '<a target=\"_blank\" href=https://colab.research.google.com/notebooks/data_table.ipynb>data table notebook</a>'\n",
              "            + ' to learn more about interactive tables.';\n",
              "          element.innerHTML = '';\n",
              "          dataTable['output_type'] = 'display_data';\n",
              "          await google.colab.output.renderOutput(dataTable, element);\n",
              "          const docLink = document.createElement('div');\n",
              "          docLink.innerHTML = docLinkHtml;\n",
              "          element.appendChild(docLink);\n",
              "        }\n",
              "      </script>\n",
              "    </div>\n",
              "  </div>\n",
              "  "
            ]
          },
          "metadata": {},
          "execution_count": 30
        }
      ]
    },
    {
      "cell_type": "code",
      "source": [
        "data=pd.get_dummies(data)"
      ],
      "metadata": {
        "id": "AciaM6B_mdj-"
      },
      "execution_count": 31,
      "outputs": []
    },
    {
      "cell_type": "markdown",
      "source": [
        "**Diviser les données en 2 sous ensembles pour l'apprentissage et le test**"
      ],
      "metadata": {
        "id": "0irolLCw_09j"
      }
    },
    {
      "cell_type": "code",
      "source": [
        "#Séparer les entrées (caractéristiques) et la sortie (classe)\n",
        "y=data['Composer']\n",
        "x=data.drop(['Composer'],axis=1)"
      ],
      "metadata": {
        "id": "_HqeHJnLmeHc"
      },
      "execution_count": 32,
      "outputs": []
    },
    {
      "cell_type": "code",
      "source": [
        "#Diviser les données en deux ensembles: entraînement et test\n",
        "from sklearn.model_selection import train_test_split\n",
        "x_train, x_test, y_train, y_test = train_test_split(x, y, test_size=0.01, random_state=0) "
      ],
      "metadata": {
        "id": "jMyN0KaiyL0f"
      },
      "execution_count": 33,
      "outputs": []
    },
    {
      "cell_type": "markdown",
      "source": [
        "**Normalisation des données**"
      ],
      "metadata": {
        "id": "hTz5wGVDATcl"
      }
    },
    {
      "cell_type": "code",
      "execution_count": 37,
      "metadata": {
        "id": "5iY3fpSbXIdv"
      },
      "outputs": [],
      "source": [
        "from sklearn.preprocessing import MinMaxScaler\n",
        "scaler=MinMaxScaler()\n",
        "x_train[['Length', 'Tempo', 'Time_Signature_4/4', 'Pitch', 'Unique_Velocities', 'Duration', 'Average_Velocity', 'Min_Velocity', 'Max_Velocity']]=scaler.fit_transform(x_train[['Length', 'Tempo', 'Time_Signature_4/4', 'Pitch', 'Unique_Velocities', 'Duration', 'Average_Velocity', 'Min_Velocity', 'Max_Velocity']])\n",
        "x_test[['Length', 'Tempo', 'Time_Signature_4/4', 'Pitch', 'Unique_Velocities', 'Duration', 'Average_Velocity', 'Min_Velocity', 'Max_Velocity']]=scaler.transform(x_test[['Length', 'Tempo', 'Time_Signature_4/4', 'Pitch', 'Unique_Velocities', 'Duration', 'Average_Velocity', 'Min_Velocity', 'Max_Velocity']])\n"
      ]
    },
    {
      "cell_type": "code",
      "source": [
        "x_train[['Length', 'Tempo', 'Time_Signature_4/4', 'Pitch', 'Unique_Velocities', 'Duration', 'Average_Velocity', 'Min_Velocity', 'Max_Velocity']]"
      ],
      "metadata": {
        "colab": {
          "base_uri": "https://localhost:8080/",
          "height": 488
        },
        "id": "29X3jhC30SxQ",
        "outputId": "858d7a4d-49a0-4e89-b601-811fba3efb78"
      },
      "execution_count": 39,
      "outputs": [
        {
          "output_type": "execute_result",
          "data": {
            "text/plain": [
              "        Length     Tempo  Time_Signature_4/4     Pitch  Unique_Velocities  \\\n",
              "5     0.042122  0.890710                 0.0  0.296296           0.095757   \n",
              "328   0.072933  0.770492                 0.0  0.685185           0.231651   \n",
              "629   0.088924  0.770492                 0.0  0.814815           0.247706   \n",
              "958   0.065133  0.830601                 0.0  0.666667           0.083142   \n",
              "905   0.185257  0.808743                 0.0  0.962963           0.195528   \n",
              "...        ...       ...                 ...       ...                ...   \n",
              "763   0.139236  0.650273                 0.0  0.722222           0.269782   \n",
              "835   0.086973  0.737705                 0.0  0.759259           0.313073   \n",
              "1216  0.612324  0.726776                 0.0  0.777778           0.684920   \n",
              "559   0.164977  0.715847                 0.0  0.833333           0.224484   \n",
              "684   0.236349  0.775956                 0.0  0.907407           0.306193   \n",
              "\n",
              "      Duration  Average_Velocity  Min_Velocity  Max_Velocity  \n",
              "5     0.300000          0.840260      0.060606      0.355556  \n",
              "328   0.785714          0.745592      0.060606      0.755556  \n",
              "629   0.685714          0.788623      0.151515      0.644444  \n",
              "958   0.800000          0.769731      0.030303      1.000000  \n",
              "905   0.742857          0.604114      0.060606      0.755556  \n",
              "...        ...               ...           ...           ...  \n",
              "763   0.714286          0.459278      0.060606      0.755556  \n",
              "835   0.771429          0.772040      0.030303      0.822222  \n",
              "1216  0.842857          0.730688      0.030303      0.844444  \n",
              "559   0.800000          0.687657      0.030303      0.955556  \n",
              "684   0.814286          0.714945      0.030303      0.822222  \n",
              "\n",
              "[1236 rows x 9 columns]"
            ],
            "text/html": [
              "\n",
              "  <div id=\"df-bfe44b4c-3701-445d-9c42-aac215b89f5f\">\n",
              "    <div class=\"colab-df-container\">\n",
              "      <div>\n",
              "<style scoped>\n",
              "    .dataframe tbody tr th:only-of-type {\n",
              "        vertical-align: middle;\n",
              "    }\n",
              "\n",
              "    .dataframe tbody tr th {\n",
              "        vertical-align: top;\n",
              "    }\n",
              "\n",
              "    .dataframe thead th {\n",
              "        text-align: right;\n",
              "    }\n",
              "</style>\n",
              "<table border=\"1\" class=\"dataframe\">\n",
              "  <thead>\n",
              "    <tr style=\"text-align: right;\">\n",
              "      <th></th>\n",
              "      <th>Length</th>\n",
              "      <th>Tempo</th>\n",
              "      <th>Time_Signature_4/4</th>\n",
              "      <th>Pitch</th>\n",
              "      <th>Unique_Velocities</th>\n",
              "      <th>Duration</th>\n",
              "      <th>Average_Velocity</th>\n",
              "      <th>Min_Velocity</th>\n",
              "      <th>Max_Velocity</th>\n",
              "    </tr>\n",
              "  </thead>\n",
              "  <tbody>\n",
              "    <tr>\n",
              "      <th>5</th>\n",
              "      <td>0.042122</td>\n",
              "      <td>0.890710</td>\n",
              "      <td>0.0</td>\n",
              "      <td>0.296296</td>\n",
              "      <td>0.095757</td>\n",
              "      <td>0.300000</td>\n",
              "      <td>0.840260</td>\n",
              "      <td>0.060606</td>\n",
              "      <td>0.355556</td>\n",
              "    </tr>\n",
              "    <tr>\n",
              "      <th>328</th>\n",
              "      <td>0.072933</td>\n",
              "      <td>0.770492</td>\n",
              "      <td>0.0</td>\n",
              "      <td>0.685185</td>\n",
              "      <td>0.231651</td>\n",
              "      <td>0.785714</td>\n",
              "      <td>0.745592</td>\n",
              "      <td>0.060606</td>\n",
              "      <td>0.755556</td>\n",
              "    </tr>\n",
              "    <tr>\n",
              "      <th>629</th>\n",
              "      <td>0.088924</td>\n",
              "      <td>0.770492</td>\n",
              "      <td>0.0</td>\n",
              "      <td>0.814815</td>\n",
              "      <td>0.247706</td>\n",
              "      <td>0.685714</td>\n",
              "      <td>0.788623</td>\n",
              "      <td>0.151515</td>\n",
              "      <td>0.644444</td>\n",
              "    </tr>\n",
              "    <tr>\n",
              "      <th>958</th>\n",
              "      <td>0.065133</td>\n",
              "      <td>0.830601</td>\n",
              "      <td>0.0</td>\n",
              "      <td>0.666667</td>\n",
              "      <td>0.083142</td>\n",
              "      <td>0.800000</td>\n",
              "      <td>0.769731</td>\n",
              "      <td>0.030303</td>\n",
              "      <td>1.000000</td>\n",
              "    </tr>\n",
              "    <tr>\n",
              "      <th>905</th>\n",
              "      <td>0.185257</td>\n",
              "      <td>0.808743</td>\n",
              "      <td>0.0</td>\n",
              "      <td>0.962963</td>\n",
              "      <td>0.195528</td>\n",
              "      <td>0.742857</td>\n",
              "      <td>0.604114</td>\n",
              "      <td>0.060606</td>\n",
              "      <td>0.755556</td>\n",
              "    </tr>\n",
              "    <tr>\n",
              "      <th>...</th>\n",
              "      <td>...</td>\n",
              "      <td>...</td>\n",
              "      <td>...</td>\n",
              "      <td>...</td>\n",
              "      <td>...</td>\n",
              "      <td>...</td>\n",
              "      <td>...</td>\n",
              "      <td>...</td>\n",
              "      <td>...</td>\n",
              "    </tr>\n",
              "    <tr>\n",
              "      <th>763</th>\n",
              "      <td>0.139236</td>\n",
              "      <td>0.650273</td>\n",
              "      <td>0.0</td>\n",
              "      <td>0.722222</td>\n",
              "      <td>0.269782</td>\n",
              "      <td>0.714286</td>\n",
              "      <td>0.459278</td>\n",
              "      <td>0.060606</td>\n",
              "      <td>0.755556</td>\n",
              "    </tr>\n",
              "    <tr>\n",
              "      <th>835</th>\n",
              "      <td>0.086973</td>\n",
              "      <td>0.737705</td>\n",
              "      <td>0.0</td>\n",
              "      <td>0.759259</td>\n",
              "      <td>0.313073</td>\n",
              "      <td>0.771429</td>\n",
              "      <td>0.772040</td>\n",
              "      <td>0.030303</td>\n",
              "      <td>0.822222</td>\n",
              "    </tr>\n",
              "    <tr>\n",
              "      <th>1216</th>\n",
              "      <td>0.612324</td>\n",
              "      <td>0.726776</td>\n",
              "      <td>0.0</td>\n",
              "      <td>0.777778</td>\n",
              "      <td>0.684920</td>\n",
              "      <td>0.842857</td>\n",
              "      <td>0.730688</td>\n",
              "      <td>0.030303</td>\n",
              "      <td>0.844444</td>\n",
              "    </tr>\n",
              "    <tr>\n",
              "      <th>559</th>\n",
              "      <td>0.164977</td>\n",
              "      <td>0.715847</td>\n",
              "      <td>0.0</td>\n",
              "      <td>0.833333</td>\n",
              "      <td>0.224484</td>\n",
              "      <td>0.800000</td>\n",
              "      <td>0.687657</td>\n",
              "      <td>0.030303</td>\n",
              "      <td>0.955556</td>\n",
              "    </tr>\n",
              "    <tr>\n",
              "      <th>684</th>\n",
              "      <td>0.236349</td>\n",
              "      <td>0.775956</td>\n",
              "      <td>0.0</td>\n",
              "      <td>0.907407</td>\n",
              "      <td>0.306193</td>\n",
              "      <td>0.814286</td>\n",
              "      <td>0.714945</td>\n",
              "      <td>0.030303</td>\n",
              "      <td>0.822222</td>\n",
              "    </tr>\n",
              "  </tbody>\n",
              "</table>\n",
              "<p>1236 rows × 9 columns</p>\n",
              "</div>\n",
              "      <button class=\"colab-df-convert\" onclick=\"convertToInteractive('df-bfe44b4c-3701-445d-9c42-aac215b89f5f')\"\n",
              "              title=\"Convert this dataframe to an interactive table.\"\n",
              "              style=\"display:none;\">\n",
              "        \n",
              "  <svg xmlns=\"http://www.w3.org/2000/svg\" height=\"24px\"viewBox=\"0 0 24 24\"\n",
              "       width=\"24px\">\n",
              "    <path d=\"M0 0h24v24H0V0z\" fill=\"none\"/>\n",
              "    <path d=\"M18.56 5.44l.94 2.06.94-2.06 2.06-.94-2.06-.94-.94-2.06-.94 2.06-2.06.94zm-11 1L8.5 8.5l.94-2.06 2.06-.94-2.06-.94L8.5 2.5l-.94 2.06-2.06.94zm10 10l.94 2.06.94-2.06 2.06-.94-2.06-.94-.94-2.06-.94 2.06-2.06.94z\"/><path d=\"M17.41 7.96l-1.37-1.37c-.4-.4-.92-.59-1.43-.59-.52 0-1.04.2-1.43.59L10.3 9.45l-7.72 7.72c-.78.78-.78 2.05 0 2.83L4 21.41c.39.39.9.59 1.41.59.51 0 1.02-.2 1.41-.59l7.78-7.78 2.81-2.81c.8-.78.8-2.07 0-2.86zM5.41 20L4 18.59l7.72-7.72 1.47 1.35L5.41 20z\"/>\n",
              "  </svg>\n",
              "      </button>\n",
              "      \n",
              "  <style>\n",
              "    .colab-df-container {\n",
              "      display:flex;\n",
              "      flex-wrap:wrap;\n",
              "      gap: 12px;\n",
              "    }\n",
              "\n",
              "    .colab-df-convert {\n",
              "      background-color: #E8F0FE;\n",
              "      border: none;\n",
              "      border-radius: 50%;\n",
              "      cursor: pointer;\n",
              "      display: none;\n",
              "      fill: #1967D2;\n",
              "      height: 32px;\n",
              "      padding: 0 0 0 0;\n",
              "      width: 32px;\n",
              "    }\n",
              "\n",
              "    .colab-df-convert:hover {\n",
              "      background-color: #E2EBFA;\n",
              "      box-shadow: 0px 1px 2px rgba(60, 64, 67, 0.3), 0px 1px 3px 1px rgba(60, 64, 67, 0.15);\n",
              "      fill: #174EA6;\n",
              "    }\n",
              "\n",
              "    [theme=dark] .colab-df-convert {\n",
              "      background-color: #3B4455;\n",
              "      fill: #D2E3FC;\n",
              "    }\n",
              "\n",
              "    [theme=dark] .colab-df-convert:hover {\n",
              "      background-color: #434B5C;\n",
              "      box-shadow: 0px 1px 3px 1px rgba(0, 0, 0, 0.15);\n",
              "      filter: drop-shadow(0px 1px 2px rgba(0, 0, 0, 0.3));\n",
              "      fill: #FFFFFF;\n",
              "    }\n",
              "  </style>\n",
              "\n",
              "      <script>\n",
              "        const buttonEl =\n",
              "          document.querySelector('#df-bfe44b4c-3701-445d-9c42-aac215b89f5f button.colab-df-convert');\n",
              "        buttonEl.style.display =\n",
              "          google.colab.kernel.accessAllowed ? 'block' : 'none';\n",
              "\n",
              "        async function convertToInteractive(key) {\n",
              "          const element = document.querySelector('#df-bfe44b4c-3701-445d-9c42-aac215b89f5f');\n",
              "          const dataTable =\n",
              "            await google.colab.kernel.invokeFunction('convertToInteractive',\n",
              "                                                     [key], {});\n",
              "          if (!dataTable) return;\n",
              "\n",
              "          const docLinkHtml = 'Like what you see? Visit the ' +\n",
              "            '<a target=\"_blank\" href=https://colab.research.google.com/notebooks/data_table.ipynb>data table notebook</a>'\n",
              "            + ' to learn more about interactive tables.';\n",
              "          element.innerHTML = '';\n",
              "          dataTable['output_type'] = 'display_data';\n",
              "          await google.colab.output.renderOutput(dataTable, element);\n",
              "          const docLink = document.createElement('div');\n",
              "          docLink.innerHTML = docLinkHtml;\n",
              "          element.appendChild(docLink);\n",
              "        }\n",
              "      </script>\n",
              "    </div>\n",
              "  </div>\n",
              "  "
            ]
          },
          "metadata": {},
          "execution_count": 39
        }
      ]
    },
    {
      "cell_type": "markdown",
      "source": [
        "# Modeling :"
      ],
      "metadata": {
        "id": "YFrW3sctrRc-"
      }
    },
    {
      "cell_type": "markdown",
      "source": [
        "**Application du modele KNeighborsClassifier**"
      ],
      "metadata": {
        "id": "McD3FNsurYcQ"
      }
    },
    {
      "cell_type": "code",
      "source": [
        "from sklearn.model_selection import GridSearchCV\n",
        "\n",
        "param_grid={'n_neighbors' : np.arange(1,51),\n",
        "           'metric': ['euclidean' ,'manhattan','minkowski'],\n",
        "           'weights' :[ 'uniform','distance']} #dictionaire qui contient les paramtres qu'on veut regler\n",
        "KNeighborsClassifier()\n",
        "knn_grid=GridSearchCV(KNeighborsClassifier(),param_grid=param_grid,cv=5)\n",
        "\n",
        "knn_grid.fit(x_train,y_train)"
      ],
      "metadata": {
        "id": "uBuXzjmE46PV",
        "colab": {
          "base_uri": "https://localhost:8080/"
        },
        "outputId": "a8f9e792-6fa9-4646-a702-bf924f8e9198"
      },
      "execution_count": 40,
      "outputs": [
        {
          "output_type": "execute_result",
          "data": {
            "text/plain": [
              "GridSearchCV(cv=5, estimator=KNeighborsClassifier(),\n",
              "             param_grid={'metric': ['euclidean', 'manhattan', 'minkowski'],\n",
              "                         'n_neighbors': array([ 1,  2,  3,  4,  5,  6,  7,  8,  9, 10, 11, 12, 13, 14, 15, 16, 17,\n",
              "       18, 19, 20, 21, 22, 23, 24, 25, 26, 27, 28, 29, 30, 31, 32, 33, 34,\n",
              "       35, 36, 37, 38, 39, 40, 41, 42, 43, 44, 45, 46, 47, 48, 49, 50]),\n",
              "                         'weights': ['uniform', 'distance']})"
            ]
          },
          "metadata": {},
          "execution_count": 40
        }
      ]
    },
    {
      "cell_type": "code",
      "source": [
        "knn_grid.best_params_"
      ],
      "metadata": {
        "id": "WNKEEIHW4-Gl",
        "colab": {
          "base_uri": "https://localhost:8080/"
        },
        "outputId": "edc73d27-4ac9-40f1-bce1-70bb5d40c5b8"
      },
      "execution_count": 41,
      "outputs": [
        {
          "output_type": "execute_result",
          "data": {
            "text/plain": [
              "{'metric': 'manhattan', 'n_neighbors': 4, 'weights': 'distance'}"
            ]
          },
          "metadata": {},
          "execution_count": 41
        }
      ]
    },
    {
      "cell_type": "code",
      "source": [
        "# n_neighbors=1\n",
        "from sklearn.neighbors import KNeighborsClassifier\n",
        "knn=KNeighborsClassifier(n_neighbors=9,metric='manhattan',weights='distance')\n",
        "# la méthode fit pour entrainer un modèle\n",
        "knn.fit(x_train, y_train)\n",
        "# la méthode score pour calculer le test_score ou le train_score\n",
        "print('Le train score est :', knn.score(x_train, y_train))\n",
        "print('Le test score est :', knn.score(x_test, y_test))"
      ],
      "metadata": {
        "id": "s7ZCHAvcYQVT",
        "colab": {
          "base_uri": "https://localhost:8080/"
        },
        "outputId": "6aa3c954-af57-4455-e352-143e1ac90a9e"
      },
      "execution_count": 42,
      "outputs": [
        {
          "output_type": "stream",
          "name": "stdout",
          "text": [
            "Le train score est : 1.0\n",
            "Le test score est : 0.5384615384615384\n"
          ]
        }
      ]
    },
    {
      "cell_type": "code",
      "source": [
        "ypredknn=knn.predict(x_train)\n",
        "ypredknn"
      ],
      "metadata": {
        "id": "zzpXBck1-7yV",
        "colab": {
          "base_uri": "https://localhost:8080/"
        },
        "outputId": "f74bfaef-f1fb-4f85-910c-72bfaff5a758"
      },
      "execution_count": 43,
      "outputs": [
        {
          "output_type": "execute_result",
          "data": {
            "text/plain": [
              "array([3, 1, 2, ..., 9, 2, 2])"
            ]
          },
          "metadata": {},
          "execution_count": 43
        }
      ]
    },
    {
      "cell_type": "code",
      "source": [
        "ypredknn[0]"
      ],
      "metadata": {
        "colab": {
          "base_uri": "https://localhost:8080/"
        },
        "id": "rfVWNnwbi5ll",
        "outputId": "a9ff80ae-ba67-4cfd-c23e-d62e0cd406c5"
      },
      "execution_count": 44,
      "outputs": [
        {
          "output_type": "execute_result",
          "data": {
            "text/plain": [
              "3"
            ]
          },
          "metadata": {},
          "execution_count": 44
        }
      ]
    },
    {
      "cell_type": "code",
      "source": [
        "import pickle\n",
        "with open ('/content/drive/MyDrive/model','wb') as file:\n",
        "  pickle.dump(knn,file)"
      ],
      "metadata": {
        "id": "qtM0l-3Cg1KQ"
      },
      "execution_count": 45,
      "outputs": []
    },
    {
      "cell_type": "code",
      "source": [
        ""
      ],
      "metadata": {
        "id": "NNDW9qjgg1Sf"
      },
      "execution_count": null,
      "outputs": []
    },
    {
      "cell_type": "code",
      "source": [
        "from sklearn.metrics import plot_confusion_matrix\n",
        "\n",
        "y_pred=knn.predict(x_test)\n",
        "plot_confusion_matrix(knn,x_test,y_test,cmap=plt.cm.Blues); "
      ],
      "metadata": {
        "id": "ufoiTNqwn7nW",
        "colab": {
          "base_uri": "https://localhost:8080/",
          "height": 339
        },
        "outputId": "175f9f3d-fc47-4913-ed5c-70a6992e16c2"
      },
      "execution_count": 46,
      "outputs": [
        {
          "output_type": "stream",
          "name": "stderr",
          "text": [
            "/usr/local/lib/python3.7/dist-packages/sklearn/utils/deprecation.py:87: FutureWarning: Function plot_confusion_matrix is deprecated; Function `plot_confusion_matrix` is deprecated in 1.0 and will be removed in 1.2. Use one of the class methods: ConfusionMatrixDisplay.from_predictions or ConfusionMatrixDisplay.from_estimator.\n",
            "  warnings.warn(msg, category=FutureWarning)\n"
          ]
        },
        {
          "output_type": "display_data",
          "data": {
            "text/plain": [
              "<Figure size 432x288 with 2 Axes>"
            ],
            "image/png": "[encoded data removed]"
          },
          "metadata": {
            "needs_background": "light"
          }
        }
      ]
    },
    {
      "cell_type": "code",
      "source": [
        "from sklearn.metrics import classification_report\n",
        "\n",
        "y_pred=knn.predict(x_test)\n",
        "print(classification_report(y_test,y_pred,digits=6))"
      ],
      "metadata": {
        "id": "HwLN3ljEsH16",
        "colab": {
          "base_uri": "https://localhost:8080/"
        },
        "outputId": "42f49fa0-de38-478e-b168-0acbcf4b2976"
      },
      "execution_count": 47,
      "outputs": [
        {
          "output_type": "stream",
          "name": "stdout",
          "text": [
            "              precision    recall  f1-score   support\n",
            "\n",
            "           0   1.000000  0.750000  0.857143         4\n",
            "           2   0.000000  0.000000  0.000000         0\n",
            "           3   1.000000  0.666667  0.800000         3\n",
            "           4   0.000000  0.000000  0.000000         0\n",
            "           5   0.000000  0.000000  0.000000         0\n",
            "           6   0.000000  0.000000  0.000000         1\n",
            "           7   1.000000  0.333333  0.500000         3\n",
            "           9   1.000000  0.500000  0.666667         2\n",
            "\n",
            "    accuracy                       0.538462        13\n",
            "   macro avg   0.500000  0.281250  0.352976        13\n",
            "weighted avg   0.923077  0.538462  0.666300        13\n",
            "\n"
          ]
        },
        {
          "output_type": "stream",
          "name": "stderr",
          "text": [
            "/usr/local/lib/python3.7/dist-packages/sklearn/metrics/_classification.py:1318: UndefinedMetricWarning: Recall and F-score are ill-defined and being set to 0.0 in labels with no true samples. Use `zero_division` parameter to control this behavior.\n",
            "  _warn_prf(average, modifier, msg_start, len(result))\n",
            "/usr/local/lib/python3.7/dist-packages/sklearn/metrics/_classification.py:1318: UndefinedMetricWarning: Recall and F-score are ill-defined and being set to 0.0 in labels with no true samples. Use `zero_division` parameter to control this behavior.\n",
            "  _warn_prf(average, modifier, msg_start, len(result))\n",
            "/usr/local/lib/python3.7/dist-packages/sklearn/metrics/_classification.py:1318: UndefinedMetricWarning: Recall and F-score are ill-defined and being set to 0.0 in labels with no true samples. Use `zero_division` parameter to control this behavior.\n",
            "  _warn_prf(average, modifier, msg_start, len(result))\n"
          ]
        }
      ]
    },
    {
      "cell_type": "markdown",
      "source": [
        "Application de Logistic Regression "
      ],
      "metadata": {
        "id": "2jY4V_dlsUpG"
      }
    },
    {
      "cell_type": "code",
      "source": [
        "from sklearn.linear_model import LogisticRegression\n",
        "from sklearn.model_selection import GridSearchCV\n",
        "\n",
        "\n",
        "log = LogisticRegression(random_state=0)\n",
        "param =  {'penalty': ['l1', 'l2', 'elasticnet', 'none'],\n",
        "          'C' : np.linspace(0,10, 100),\n",
        "          'solver': ['lbfgs', 'liblinear', 'sag', 'saga'],\n",
        "          'max_iter': [100,1000, 2000, 3000]}\n",
        "\n",
        "grid = GridSearchCV(log, param_grid=param, cv =5, n_jobs=-1)\n",
        "grid.fit(x_train, y_train)"
      ],
      "metadata": {
        "id": "tiFgJC5Ssm_i"
      },
      "execution_count": 48,
      "outputs": []
    },
    {
      "cell_type": "code",
      "source": [
        "grid.best_params_                                "
      ],
      "metadata": {
        "id": "tTFFJmhCsnC7"
      },
      "execution_count": 49,
      "outputs": []
    },
    {
      "cell_type": "code",
      "source": [
        "from sklearn.linear_model import LogisticRegression\n",
        "#random_state=0,\n",
        "logre_model = LogisticRegression(C=8.98989898989899, penalty = 'l1', solver='saga')\n",
        "logre_model.fit(x_train, y_train)\n",
        "\n",
        "print('train score : ' , logre_model.score(x_train, y_train) )\n",
        "print('test score : ' , logre_model.score(x_test,y_test) )"
      ],
      "metadata": {
        "id": "Aqv30NIcsnHs",
        "colab": {
          "base_uri": "https://localhost:8080/"
        },
        "outputId": "4bd95ce5-5740-4bbe-ce08-8546efee64dc"
      },
      "execution_count": 50,
      "outputs": [
        {
          "output_type": "stream",
          "name": "stdout",
          "text": [
            "train score :  0.5485436893203883\n",
            "test score :  0.3076923076923077\n"
          ]
        },
        {
          "output_type": "stream",
          "name": "stderr",
          "text": [
            "/usr/local/lib/python3.7/dist-packages/sklearn/linear_model/_sag.py:354: ConvergenceWarning: The max_iter was reached which means the coef_ did not converge\n",
            "  ConvergenceWarning,\n"
          ]
        }
      ]
    },
    {
      "cell_type": "code",
      "source": [
        "ypredlog=logre_model.predict(x_test)\n",
        "ypredlog"
      ],
      "metadata": {
        "id": "rb10feZv-w06",
        "colab": {
          "base_uri": "https://localhost:8080/"
        },
        "outputId": "b0e4c1a3-ce32-4863-872d-bdee9ec8d324"
      },
      "execution_count": 51,
      "outputs": [
        {
          "output_type": "execute_result",
          "data": {
            "text/plain": [
              "array([4, 0, 4, 6, 3, 4, 0, 4, 4, 0, 6, 0, 3])"
            ]
          },
          "metadata": {},
          "execution_count": 51
        }
      ]
    },
    {
      "cell_type": "code",
      "source": [
        "from sklearn.metrics import plot_confusion_matrix\n",
        "\n",
        "\n",
        "plot_confusion_matrix(logre_model,x_test,y_test,cmap=plt.cm.Blues);"
      ],
      "metadata": {
        "id": "YXp61PmpsnK7",
        "colab": {
          "base_uri": "https://localhost:8080/",
          "height": 339
        },
        "outputId": "f3a68864-0fd3-41a3-aead-deb0615a7b54"
      },
      "execution_count": 52,
      "outputs": [
        {
          "output_type": "stream",
          "name": "stderr",
          "text": [
            "/usr/local/lib/python3.7/dist-packages/sklearn/utils/deprecation.py:87: FutureWarning: Function plot_confusion_matrix is deprecated; Function `plot_confusion_matrix` is deprecated in 1.0 and will be removed in 1.2. Use one of the class methods: ConfusionMatrixDisplay.from_predictions or ConfusionMatrixDisplay.from_estimator.\n",
            "  warnings.warn(msg, category=FutureWarning)\n"
          ]
        },
        {
          "output_type": "display_data",
          "data": {
            "text/plain": [
              "<Figure size 432x288 with 2 Axes>"
            ],
            "image/png": "[encoded data removed]"
          },
          "metadata": {
            "needs_background": "light"
          }
        }
      ]
    },
    {
      "cell_type": "code",
      "source": [
        "y_predi=logre_model.predict(x_test)\n",
        "\n",
        "print(classification_report(y_test,y_predi,digits=5))"
      ],
      "metadata": {
        "id": "WCGKqDxpsnQy",
        "colab": {
          "base_uri": "https://localhost:8080/"
        },
        "outputId": "aedddbf3-e24b-4318-ce7e-3454f727a4cc"
      },
      "execution_count": 53,
      "outputs": [
        {
          "output_type": "stream",
          "name": "stdout",
          "text": [
            "              precision    recall  f1-score   support\n",
            "\n",
            "           0    0.50000   0.50000   0.50000         4\n",
            "           3    1.00000   0.66667   0.80000         3\n",
            "           4    0.00000   0.00000   0.00000         0\n",
            "           6    0.00000   0.00000   0.00000         1\n",
            "           7    0.00000   0.00000   0.00000         3\n",
            "           9    0.00000   0.00000   0.00000         2\n",
            "\n",
            "    accuracy                        0.30769        13\n",
            "   macro avg    0.25000   0.19444   0.21667        13\n",
            "weighted avg    0.38462   0.30769   0.33846        13\n",
            "\n"
          ]
        },
        {
          "output_type": "stream",
          "name": "stderr",
          "text": [
            "/usr/local/lib/python3.7/dist-packages/sklearn/metrics/_classification.py:1318: UndefinedMetricWarning: Precision and F-score are ill-defined and being set to 0.0 in labels with no predicted samples. Use `zero_division` parameter to control this behavior.\n",
            "  _warn_prf(average, modifier, msg_start, len(result))\n",
            "/usr/local/lib/python3.7/dist-packages/sklearn/metrics/_classification.py:1318: UndefinedMetricWarning: Recall and F-score are ill-defined and being set to 0.0 in labels with no true samples. Use `zero_division` parameter to control this behavior.\n",
            "  _warn_prf(average, modifier, msg_start, len(result))\n",
            "/usr/local/lib/python3.7/dist-packages/sklearn/metrics/_classification.py:1318: UndefinedMetricWarning: Precision and F-score are ill-defined and being set to 0.0 in labels with no predicted samples. Use `zero_division` parameter to control this behavior.\n",
            "  _warn_prf(average, modifier, msg_start, len(result))\n",
            "/usr/local/lib/python3.7/dist-packages/sklearn/metrics/_classification.py:1318: UndefinedMetricWarning: Recall and F-score are ill-defined and being set to 0.0 in labels with no true samples. Use `zero_division` parameter to control this behavior.\n",
            "  _warn_prf(average, modifier, msg_start, len(result))\n",
            "/usr/local/lib/python3.7/dist-packages/sklearn/metrics/_classification.py:1318: UndefinedMetricWarning: Precision and F-score are ill-defined and being set to 0.0 in labels with no predicted samples. Use `zero_division` parameter to control this behavior.\n",
            "  _warn_prf(average, modifier, msg_start, len(result))\n",
            "/usr/local/lib/python3.7/dist-packages/sklearn/metrics/_classification.py:1318: UndefinedMetricWarning: Recall and F-score are ill-defined and being set to 0.0 in labels with no true samples. Use `zero_division` parameter to control this behavior.\n",
            "  _warn_prf(average, modifier, msg_start, len(result))\n"
          ]
        }
      ]
    },
    {
      "cell_type": "markdown",
      "source": [
        "**Apllication du modele SVM**"
      ],
      "metadata": {
        "id": "wMLzeboJuB9K"
      }
    },
    {
      "cell_type": "code",
      "source": [
        "from sklearn import svm\n",
        "from sklearn.model_selection import GridSearchCV\n",
        "param_range =[1, 2, 3, 4, 5, 6, 7, 8, 9, 10]\n",
        "param_grid = {'kernel': ['linear', 'rbf'], \n",
        "              'C': [0.1, 1, 10, 100, 1000],\n",
        "              'gamma': [1, 0.1, 0.01, 0.001, 0.0001]}\n",
        "\n",
        "\n",
        "grid = GridSearchCV(svm.SVC(), param_grid, cv=5)\n",
        "\n",
        "grid.fit(x_train, y_train)\n",
        "grid.best_params_"
      ],
      "metadata": {
        "id": "5k3zaSKTtsB5"
      },
      "execution_count": 54,
      "outputs": []
    },
    {
      "cell_type": "code",
      "source": [
        "from sklearn import svm\n",
        "\n",
        "svm_model=svm.SVC(C=100,kernel='rbf',gamma=1)\n",
        "svm_model.fit(x_train,y_train)\n",
        "\n",
        "print('train score : ' ,svm_model.score(x_train,y_train))\n",
        "print('test score : ' ,svm_model.score(x_test,y_test))"
      ],
      "metadata": {
        "id": "wE2zfuX2tsE4",
        "colab": {
          "base_uri": "https://localhost:8080/"
        },
        "outputId": "ec8cc7be-3037-49c2-d62d-9b41861d1e2c"
      },
      "execution_count": 68,
      "outputs": [
        {
          "output_type": "stream",
          "name": "stdout",
          "text": [
            "train score :  0.7467637540453075\n",
            "test score :  0.6153846153846154\n"
          ]
        }
      ]
    },
    {
      "cell_type": "code",
      "source": [
        "ypredsvm=svm_model.predict(x_test)\n",
        "ypredsvm"
      ],
      "metadata": {
        "id": "Bmlob2-Z-nRC",
        "colab": {
          "base_uri": "https://localhost:8080/"
        },
        "outputId": "7bf67215-9010-4ccc-e48e-e3eb494205fe"
      },
      "execution_count": 62,
      "outputs": [
        {
          "output_type": "execute_result",
          "data": {
            "text/plain": [
              "array([2, 7, 0, 7, 3, 4, 0, 4, 9, 9, 6, 0, 3])"
            ]
          },
          "metadata": {},
          "execution_count": 62
        }
      ]
    },
    {
      "cell_type": "code",
      "source": [
        "from sklearn.metrics import plot_confusion_matrix\n",
        "\n",
        "\n",
        "plot_confusion_matrix(svm_model,x_test,y_test,cmap=plt.cm.Blues);"
      ],
      "metadata": {
        "id": "33kLA03RtsHi",
        "colab": {
          "base_uri": "https://localhost:8080/",
          "height": 339
        },
        "outputId": "dfcc22dc-0653-464b-ef4c-d00fdc3af75e"
      },
      "execution_count": 64,
      "outputs": [
        {
          "output_type": "stream",
          "name": "stderr",
          "text": [
            "/usr/local/lib/python3.7/dist-packages/sklearn/utils/deprecation.py:87: FutureWarning: Function plot_confusion_matrix is deprecated; Function `plot_confusion_matrix` is deprecated in 1.0 and will be removed in 1.2. Use one of the class methods: ConfusionMatrixDisplay.from_predictions or ConfusionMatrixDisplay.from_estimator.\n",
            "  warnings.warn(msg, category=FutureWarning)\n"
          ]
        },
        {
          "output_type": "display_data",
          "data": {
            "text/plain": [
              "<Figure size 432x288 with 2 Axes>"
            ],
            "image/png": "[encoded data removed]"
          },
          "metadata": {
            "needs_background": "light"
          }
        }
      ]
    },
    {
      "cell_type": "code",
      "source": [
        "from sklearn.metrics import classification_report\n",
        "\n",
        "y_predi=svm_model.predict(x_test)\n",
        "\n",
        "print(classification_report(y_test,y_predi,digits=5))"
      ],
      "metadata": {
        "id": "N7ZtGed2tsKF",
        "colab": {
          "base_uri": "https://localhost:8080/"
        },
        "outputId": "c84e5c2b-a3ae-4928-f985-dbcd9cd83278"
      },
      "execution_count": 65,
      "outputs": [
        {
          "output_type": "stream",
          "name": "stdout",
          "text": [
            "              precision    recall  f1-score   support\n",
            "\n",
            "           0    1.00000   0.75000   0.85714         4\n",
            "           2    0.00000   0.00000   0.00000         0\n",
            "           3    1.00000   0.66667   0.80000         3\n",
            "           4    0.00000   0.00000   0.00000         0\n",
            "           6    0.00000   0.00000   0.00000         1\n",
            "           7    1.00000   0.66667   0.80000         3\n",
            "           9    0.50000   0.50000   0.50000         2\n",
            "\n",
            "    accuracy                        0.61538        13\n",
            "   macro avg    0.50000   0.36905   0.42245        13\n",
            "weighted avg    0.84615   0.61538   0.70989        13\n",
            "\n"
          ]
        },
        {
          "output_type": "stream",
          "name": "stderr",
          "text": [
            "/usr/local/lib/python3.7/dist-packages/sklearn/metrics/_classification.py:1318: UndefinedMetricWarning: Recall and F-score are ill-defined and being set to 0.0 in labels with no true samples. Use `zero_division` parameter to control this behavior.\n",
            "  _warn_prf(average, modifier, msg_start, len(result))\n",
            "/usr/local/lib/python3.7/dist-packages/sklearn/metrics/_classification.py:1318: UndefinedMetricWarning: Recall and F-score are ill-defined and being set to 0.0 in labels with no true samples. Use `zero_division` parameter to control this behavior.\n",
            "  _warn_prf(average, modifier, msg_start, len(result))\n",
            "/usr/local/lib/python3.7/dist-packages/sklearn/metrics/_classification.py:1318: UndefinedMetricWarning: Recall and F-score are ill-defined and being set to 0.0 in labels with no true samples. Use `zero_division` parameter to control this behavior.\n",
            "  _warn_prf(average, modifier, msg_start, len(result))\n"
          ]
        }
      ]
    },
    {
      "cell_type": "code",
      "source": [
        "        \n",
        "# Regardons la construction d'une DataFrame\n",
        "import numpy as np\n",
        "import pandas as pd\n",
        "\n",
        "\"\"\"l=['KNeighborsClassifier','LogisticRegression','SVM']\n",
        "train_score = pd.Series([0.5477,0.4341,0.5919], index=l)\n",
        "test_score = pd.Series([0.4618,0.3574,0.5100], index=l)\n",
        "f1_score_Beethoven  = pd.Series([ 0.317460,0.23333,0.36923], index=l)\n",
        "f1_score_Chopin  = pd.Series([ 0.492754,0.28571,0.50746], index=l)\n",
        "f1_score_Liszt = pd.Series([ 0.430380,0.42500,0.52055], index=l)\n",
        "f1_score_Bach  = pd.Series([ 0.847458,0.68657,0.77419], index=l)\n",
        "f1_score_Schubert  = pd.Series([ 0.521739,0.36923,0.47458], index=l)\n",
        "f1_score_Haydn  = pd.Series([ 0.588235,0.21622,0.64865], index=l)\n",
        "f1_score_Prokofiev  = pd.Series([ 0.222222,0.51429,0.48276], index=l)\n",
        "f1_score_Rachmaninoff  = pd.Series([ 0.230769,0.08696,0.41379], index=l)\n",
        "f1_score_Ravel  = pd.Series([ 0.421053,0.29268,0.35897], index=l)\n",
        "f1_score_Schumann  = pd.Series([ 0.235294,0.07407,0.47368], index=l)\n",
        "\n",
        "accuary = pd.Series([0.4618,0.3574,0.5100], index=l)\"\"\"\n"
      ],
      "metadata": {
        "id": "OVFMYhpjtsPk",
        "colab": {
          "base_uri": "https://localhost:8080/",
          "height": 200
        },
        "outputId": "dc535eed-b1ab-4946-995e-cb4ef22f46ef"
      },
      "execution_count": 66,
      "outputs": [
        {
          "output_type": "execute_result",
          "data": {
            "text/plain": [
              "\"l=['KNeighborsClassifier','LogisticRegression','SVM']\\ntrain_score = pd.Series([0.5477,0.4341,0.5919], index=l)\\ntest_score = pd.Series([0.4618,0.3574,0.5100], index=l)\\nf1_score_Beethoven  = pd.Series([ 0.317460,0.23333,0.36923], index=l)\\nf1_score_Chopin  = pd.Series([ 0.492754,0.28571,0.50746], index=l)\\nf1_score_Liszt = pd.Series([ 0.430380,0.42500,0.52055], index=l)\\nf1_score_Bach  = pd.Series([ 0.847458,0.68657,0.77419], index=l)\\nf1_score_Schubert  = pd.Series([ 0.521739,0.36923,0.47458], index=l)\\nf1_score_Haydn  = pd.Series([ 0.588235,0.21622,0.64865], index=l)\\nf1_score_Prokofiev  = pd.Series([ 0.222222,0.51429,0.48276], index=l)\\nf1_score_Rachmaninoff  = pd.Series([ 0.230769,0.08696,0.41379], index=l)\\nf1_score_Ravel  = pd.Series([ 0.421053,0.29268,0.35897], index=l)\\nf1_score_Schumann  = pd.Series([ 0.235294,0.07407,0.47368], index=l)\\n\\naccuary = pd.Series([0.4618,0.3574,0.5100], index=l)\""
            ],
            "application/vnd.google.colaboratory.intrinsic+json": {
              "type": "string"
            }
          },
          "metadata": {},
          "execution_count": 66
        }
      ]
    },
    {
      "cell_type": "code",
      "source": [
        "\"\"\"stat = pd.DataFrame({'train_score': train_score,\n",
        "                     'test_score ': test_score,\n",
        "                     'accuarcy':accuary,\n",
        "                     'f1_score_Beethoven':f1_score_Beethoven,\n",
        "                     'f1_score_Chopin':f1_score_Chopin,\n",
        "                     'f1_score_Liszt':f1_score_Liszt,\n",
        "                     'f1_score_Bach':f1_score_Bach,\n",
        "                     'f1_score_Schubert':f1_score_Schubert,\n",
        "                     'f1_score_Haydn':f1_score_Haydn, \n",
        "                     'f1_score_Prokofiev':f1_score_Prokofiev,\n",
        "                     'f1_score_Rachmaninoff':f1_score_Rachmaninoff,\n",
        "                     'f1_score_Ravel':f1_score_Ravel,\n",
        "                     'f1_score_Schumann' :f1_score_Schumann\n",
        "                    \n",
        "                     })\n",
        "stat\n",
        "#on peut ajouter encore f1_score/accuracy et auc lorsqu'on ameliore les modeles\"\"\""
      ],
      "metadata": {
        "id": "xXHDdtnOtsUu"
      },
      "execution_count": null,
      "outputs": []
    },
    {
      "cell_type": "markdown",
      "source": [
        "Conclusion : "
      ],
      "metadata": {
        "id": "oJIyz5mB1PZ7"
      }
    },
    {
      "cell_type": "markdown",
      "source": [
        "**==> Nous avons finalement décidé de choisir notre modèle SVM car il a montré un score F1 et une précision relativement élevés par rapport aux autres modèles.**"
      ],
      "metadata": {
        "id": "SBoI9UMhNJJq"
      }
    },
    {
      "cell_type": "markdown",
      "source": [
        "Téléchargement du modéle:"
      ],
      "metadata": {
        "id": "Q1EjFYpYTfOU"
      }
    },
    {
      "cell_type": "code",
      "source": [
        "import pickle"
      ],
      "metadata": {
        "id": "wr7y3XcHHpVw"
      },
      "execution_count": 58,
      "outputs": []
    },
    {
      "cell_type": "code",
      "source": [
        "with open ('Pickle_Model','wb') as file:\n",
        "  pickle.dump(svm_model,file)"
      ],
      "metadata": {
        "id": "-xIcFj5HHuli"
      },
      "execution_count": 59,
      "outputs": []
    },
    {
      "cell_type": "code",
      "source": [
        "with open ('Pickle_Model','rb') as file:\n",
        "  ModelSvm=pickle.load(file)"
      ],
      "metadata": {
        "id": "YJj3AdtfIIEt"
      },
      "execution_count": 60,
      "outputs": []
    }
  ],
  "metadata": {
    "colab": {
      "name": "ComposerClassification.ipynb",
      "provenance": [],
      "collapsed_sections": []
    },
    "kernelspec": {
      "display_name": "Python [conda env:bs_capstone]",
      "language": "python",
      "name": "conda-env-bs_capstone-py"
    },
    "language_info": {
      "codemirror_mode": {
        "name": "ipython",
        "version": 3
      },
      "file_extension": ".py",
      "mimetype": "text/x-python",
      "name": "python",
      "nbconvert_exporter": "python",
      "pygments_lexer": "ipython3",
      "version": "3.7.8"
    }
  },
  "nbformat": 4,
  "nbformat_minor": 0
}